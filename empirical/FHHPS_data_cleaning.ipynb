{
 "cells": [
  {
   "cell_type": "code",
   "execution_count": 3,
   "metadata": {
    "collapsed": true,
    "run_control": {
     "frozen": false,
     "read_only": false
    }
   },
   "outputs": [],
   "source": [
    "import numpy as np\n",
    "import pandas as pd\n",
    "import seaborn as sns\n",
    "import matplotlib.pyplot as plt\n",
    "from os.path import exists\n",
    "sns.set_style(\"white\")\n",
    "%matplotlib inline"
   ]
  },
  {
   "cell_type": "markdown",
   "metadata": {},
   "source": [
    "---"
   ]
  },
  {
   "cell_type": "markdown",
   "metadata": {},
   "source": [
    "# <center>FHHPS - Data Cleaning</center>"
   ]
  },
  {
   "cell_type": "markdown",
   "metadata": {},
   "source": [
    "This is the annotated code used for cleaning our data.\n",
    "\n",
    "Information about the raw data can be found <a href=\"http://catalog.ihsn.org/index.php/catalog/4522/related_materials\">here</a>. \n",
    "\n",
    "Prior to running this code, used the read-in programs for ASI data created by Olivier Duprez and available at the International Household Survey Network (<a href=\"http://catalog.ihsn.org/index.php/catalog/central\">link</a>). "
   ]
  },
  {
   "cell_type": "markdown",
   "metadata": {},
   "source": [
    "### Checking if all files are in place"
   ]
  },
  {
   "cell_type": "markdown",
   "metadata": {},
   "source": [
    "Files should be in a certain structure for this code to work. The next two cells make sure that's the case."
   ]
  },
  {
   "cell_type": "code",
   "execution_count": 4,
   "metadata": {
    "collapsed": true,
    "run_control": {
     "frozen": false,
     "read_only": false
    }
   },
   "outputs": [],
   "source": [
    "PATH_TO_ASI_FILES = \"ASI_FILES/\" # BLx200y.dta files should be in this directory\n",
    "PATH_TO_ISIC = \"ISIC/\"      \n",
    "PATH_TO_DEFLATORS = \"Deflators/\""
   ]
  },
  {
   "cell_type": "markdown",
   "metadata": {},
   "source": [
    "If any of the cells below raise an error, files are *not* in the correct structure. "
   ]
  },
  {
   "cell_type": "code",
   "execution_count": 5,
   "metadata": {},
   "outputs": [
    {
     "name": "stdout",
     "output_type": "stream",
     "text": [
      "All files in place.\n"
     ]
    }
   ],
   "source": [
    "ASI_FILES = ['BLA2008.dta', 'BLA2009.dta', 'BLB2008.dta', 'BLB2009.dta', 'BLC2008.dta',\n",
    " 'BLC2009.dta', 'BLD2008.dta', 'BLD2009.dta', 'BLE2008.dta', 'BLE2009.dta', 'BLF2008.dta',\n",
    " 'BLF2009.dta', 'BLG2008.dta', 'BLG2009.dta', 'BLH2008.dta', 'BLH2009.dta',\n",
    " 'BLI2008.dta', 'BLI2009.dta', 'BLJ2008.dta', 'BLJ2009.dta']\n",
    "\n",
    "ISIC_FILES = ['ISIC3-ISIC2.txt', 'ISIC3-ISIC31.txt', 'ISIC4-ISIC31.txt']\n",
    "\n",
    "deflator_files = ['final input deflator.dta',\n",
    " 'final output deflator.dta',\n",
    " 'gdp deflator national.csv',\n",
    " 'RBI Capital Formation Accounts.csv']\n",
    "\n",
    "assert exists(PATH_TO_ASI_FILES)\n",
    "for f in ASI_FILES:\n",
    "    assert exists(PATH_TO_ASI_FILES + f)\n",
    "\n",
    "    \n",
    "assert exists(PATH_TO_ISIC)\n",
    "for f in ISIC_FILES:\n",
    "    assert exists(PATH_TO_ISIC + f)\n",
    "    \n",
    "for f in deflator_files:\n",
    "    assert exists(PATH_TO_DEFLATORS + f)\n",
    "    \n",
    "print(\"All files in place.\")"
   ]
  },
  {
   "cell_type": "markdown",
   "metadata": {},
   "source": [
    "---"
   ]
  },
  {
   "cell_type": "markdown",
   "metadata": {},
   "source": [
    "## Overview\n",
    "\n",
    "Broadly, we follow these steps:\n",
    "    \n",
    "1) <b>Read data from ASI files.</b> \n",
    "\n",
    "There are 10 files for each year, named `BLA2008, BLA2009, BLB2008, BLB2009`, and so on. (`BL` stands for `BLOCK`).\n",
    "\n",
    "The `BLA` files have firms' identification details such as factory ID, state, sampling scheme, etc.\n",
    "\n",
    "The `BLB` to `BLJ` files have information on firms' fixed assets, inputs, expenses, output, etc.\n",
    "\n",
    "2) <b>Merge in auxiliary information: ISIC and deflators</b> \n",
    "\n",
    "We must deflate monetary values to 2005 values. \n",
    "\n",
    "For that, we would like to use Allcott et al's deflators. However, while Allcott et al provide industry-specific deflators, they are associated with 1987's industry codes. So we must also map current industry codes, named NIC2008 and NIC2004, back to NIC1987. In order to do that, we merge in additional information on the International Standard Industry Classification schemes, which are equivalent to India's National Industry Classification.\n",
    "\n",
    "3) <b>Produce an intermediate sample by dropping unreasonable or missing observations</b>\n",
    "\n",
    "Here we follow Allcott's data cleaning methodology. See below for details.\n",
    "\n",
    "We also drop all factories that appear only in one of the two years in our sample."
   ]
  },
  {
   "cell_type": "markdown",
   "metadata": {},
   "source": [
    "----"
   ]
  },
  {
   "cell_type": "markdown",
   "metadata": {},
   "source": [
    "# Step 1: Extract ASI data"
   ]
  },
  {
   "cell_type": "markdown",
   "metadata": {},
   "source": [
    "## ASI BLOCKS B-J"
   ]
  },
  {
   "cell_type": "markdown",
   "metadata": {},
   "source": [
    "Auxiliary Functions"
   ]
  },
  {
   "cell_type": "code",
   "execution_count": 6,
   "metadata": {
    "collapsed": true,
    "run_control": {
     "frozen": false,
     "read_only": false
    }
   },
   "outputs": [],
   "source": [
    "def extract(letter, condition_column, condition_value, columns_to_keep, new_column_names):\n",
    "    \n",
    "    \"\"\"\n",
    "    Extracts the data from files BLx200y, where x is a letter and y 8 and 9\n",
    "    \"\"\"\n",
    "    \n",
    "    output = []\n",
    "    \n",
    "    columns_to_keep = [columns_to_keep] if isinstance(columns_to_keep, str) else columns_to_keep\n",
    "        \n",
    "    # Always keep FACT_ID and YEAR\n",
    "    columns_to_keep = [\"FACT_ID\", \"YEAR\"] + columns_to_keep    \n",
    "    \n",
    "    for year in [\"2008\", \"2009\"]:\n",
    "        \n",
    "        # Read in data\n",
    "        filename = PATH_TO_ASI_FILES + \"/BL%s%s.dta\" % (letter, year)\n",
    "        df = pd.read_stata(filename)\n",
    "        \n",
    "        # Set condition\n",
    "        if isinstance(condition_value, str):\n",
    "            condition = df[condition_column].str.contains(condition_value)\n",
    "        else:\n",
    "            condition = df[condition_column] == condition_value \n",
    "        condition = condition.fillna(False)\n",
    "\n",
    "        # Keep only relevant rows and columns\n",
    "        df = df.loc[condition, columns_to_keep]\n",
    "        \n",
    "        # Append to list\n",
    "        output.append(df)\n",
    "    \n",
    "    # Put everything together after grabbing information for each year\n",
    "    output = pd.concat(output).set_index([\"FACT_ID\", \"YEAR\"]).sort_index()\n",
    "    \n",
    "    if isinstance(output, pd.DataFrame):\n",
    "        output.columns = [new_column_names] if isinstance(new_column_names, str) else [new_column_names]\n",
    "    else:\n",
    "        output.columns = new_column_names\n",
    "        \n",
    "    return output"
   ]
  },
  {
   "cell_type": "code",
   "execution_count": 7,
   "metadata": {
    "collapsed": true,
    "run_control": {
     "frozen": false,
     "read_only": false
    }
   },
   "outputs": [],
   "source": [
    "def pad_zeros(x):\n",
    "    return \"%04d\" % int(x)"
   ]
  },
  {
   "cell_type": "markdown",
   "metadata": {},
   "source": [
    "### Output\n",
    "\n",
    "Output is defined as the gross sales value in Rupees.\n",
    "\n",
    "<b>Details:</b>\n",
    "\n",
    "> The <b>gross sale value</b> of the products as charged from the customers will be reported here. It includes excise duty paid or sales tax realized by the factory on behalf of the Government as also all distributive expenses incurred such as (i) discount or rebate, allowances for returnable cases or other packing and any other drawback allowed to customers, (ii) charges for carriage, outward, and (iii) commission to selling agents. \n",
    "\n",
    "\n",
    "<b>Data:</b> \n",
    "\n",
    "Column J_I7 (GrossValue), Rows where E_I1 (Field) == \"Total\"\n",
    "\n",
    "<b>Allcott equivalent</b>\n",
    "\n",
    "productTotalGrossValue -> grsale"
   ]
  },
  {
   "cell_type": "code",
   "execution_count": 8,
   "metadata": {
    "run_control": {
     "frozen": false,
     "read_only": false
    }
   },
   "outputs": [],
   "source": [
    "Y = extract(letter = \"J\", \n",
    "            condition_column = \"J_I1\",\n",
    "            condition_value = 12,\n",
    "            columns_to_keep = \"J_I7\",\n",
    "            new_column_names = \"Y\")"
   ]
  },
  {
   "cell_type": "markdown",
   "metadata": {},
   "source": [
    "### Capital\n",
    "\n",
    "\n",
    "Capital is defined as the net value of fixed assets (defined below) in Rupees. There are two such variables.\n",
    "\n",
    "+ `Opening On - Net Value` refers to Net Value on 01-04-2008 (2007); while \n",
    "\n",
    "+ `Closing On - Net Value` refers to Net Value on 31-03-2009 (2008).\n",
    "\n",
    "<b>Details:</b>\n",
    "\n",
    "> <b>Fixed assets</b> are those, which have generally normal productive life of more than one year; it covers all type of assets, new or used or own constructed, deployed for productions, transportation, living or recreational facilities, hospitals, schools, etc. for factory personnel; it would include land, building, plant and machinery, transport equipment, etc.; it includes the fixed assets of the head office allocable to the factory and also the full value of assets taken on hire-purchase basis (whether fully paid or not) excluding interest element; it excludes intangible assets and assets solely used for post-manufacturing activities such as, sale, storage, distribution, etc.\n",
    "\n",
    "\n",
    "<b>Data:</b> \n",
    "\n",
    "Columns C_I12 (Opening on - Net Value) and C_I13 (Closing on - Net Value), where C_I1 (Field) == \"Total\"\n",
    "\n",
    "<b>Allcott equivalent</b>\n",
    "\n",
    "+ `fixedTotalNetOpen` -> `fcapopen`\n",
    "\n",
    "+ `fixedTotalNetClose` -> `fcapclose`\n",
    "\n",
    "<b>Notes</b>\n",
    "\n",
    "Allcott uses `fcapclose` in his regressions. "
   ]
  },
  {
   "cell_type": "code",
   "execution_count": 9,
   "metadata": {
    "run_control": {
     "frozen": false,
     "read_only": false
    }
   },
   "outputs": [],
   "source": [
    "K = extract(letter = \"C\", \n",
    "            condition_column = \"C_I1\",\n",
    "            condition_value = \"Total\",\n",
    "            columns_to_keep = [\"C_I12\", \"C_I13\"],\n",
    "            new_column_names = [\"K_open\", \"K_close\"])"
   ]
  },
  {
   "cell_type": "code",
   "execution_count": 10,
   "metadata": {
    "run_control": {
     "frozen": false,
     "read_only": false
    }
   },
   "outputs": [
    {
     "data": {
      "text/html": [
       "<div>\n",
       "<style scoped>\n",
       "    .dataframe tbody tr th:only-of-type {\n",
       "        vertical-align: middle;\n",
       "    }\n",
       "\n",
       "    .dataframe tbody tr th {\n",
       "        vertical-align: top;\n",
       "    }\n",
       "\n",
       "    .dataframe thead tr th {\n",
       "        text-align: left;\n",
       "    }\n",
       "\n",
       "    .dataframe thead tr:last-of-type th {\n",
       "        text-align: right;\n",
       "    }\n",
       "</style>\n",
       "<table border=\"1\" class=\"dataframe\">\n",
       "  <thead>\n",
       "    <tr>\n",
       "      <th></th>\n",
       "      <th></th>\n",
       "      <th>K_open</th>\n",
       "      <th>K_close</th>\n",
       "    </tr>\n",
       "    <tr>\n",
       "      <th>FACT_ID</th>\n",
       "      <th>YEAR</th>\n",
       "      <th></th>\n",
       "      <th></th>\n",
       "    </tr>\n",
       "  </thead>\n",
       "  <tbody>\n",
       "    <tr>\n",
       "      <th>0000133F</th>\n",
       "      <th>2009</th>\n",
       "      <td>384241.0</td>\n",
       "      <td>644280.0</td>\n",
       "    </tr>\n",
       "    <tr>\n",
       "      <th rowspan=\"2\" valign=\"top\">0000206F</th>\n",
       "      <th>2008</th>\n",
       "      <td>8023505.0</td>\n",
       "      <td>8232079.0</td>\n",
       "    </tr>\n",
       "    <tr>\n",
       "      <th>2009</th>\n",
       "      <td>8232079.0</td>\n",
       "      <td>8881984.0</td>\n",
       "    </tr>\n",
       "    <tr>\n",
       "      <th rowspan=\"2\" valign=\"top\">0000208B</th>\n",
       "      <th>2008</th>\n",
       "      <td>62338.0</td>\n",
       "      <td>54401.0</td>\n",
       "    </tr>\n",
       "    <tr>\n",
       "      <th>2009</th>\n",
       "      <td>54401.0</td>\n",
       "      <td>49904.0</td>\n",
       "    </tr>\n",
       "  </tbody>\n",
       "</table>\n",
       "</div>"
      ],
      "text/plain": [
       "                  K_open    K_close\n",
       "FACT_ID  YEAR                      \n",
       "0000133F 2009   384241.0   644280.0\n",
       "0000206F 2008  8023505.0  8232079.0\n",
       "         2009  8232079.0  8881984.0\n",
       "0000208B 2008    62338.0    54401.0\n",
       "         2009    54401.0    49904.0"
      ]
     },
     "execution_count": 10,
     "metadata": {},
     "output_type": "execute_result"
    }
   ],
   "source": [
    "K.head()"
   ]
  },
  {
   "cell_type": "markdown",
   "metadata": {},
   "source": [
    "### Labor  and Wages\n",
    "\n",
    "Labor is defined as the average number of persons worked.\n",
    "\n",
    "Wages are total emoluments (see below) paid to employees throughout the year, in Rupees.\n",
    "\n",
    "<b>Data:</b> \n",
    "\n",
    "+ `Labor`: Columns E_I6 (Average Number of persons worked), where E_I1 (Field) includes \"Total employees\"\n",
    "\n",
    "+ `Wages`: Columns E_I8 (Wages/salaries ), where E_I1 (Field) includes \"Total employees\"\n",
    "\n",
    "\n",
    "<b>Details:</b>\n",
    "\n",
    "*Emoluments* are defined as wages paid to all employees plus imputed value of benefits in kind, i.e., the net cost to the employers on those goods and services provided to employees free of charge or at markedly reduced cost which are clearly and primarily of benefit to the employees as consumers. It includes profit sharing, festival and other bonuses and ex-gratia payments paid at less frequent intervals (i.e. other than bonus paid more or less regularly for each period). Benefits in kind include supplies or services rendered such as housing, medical, education and recreation facilities. Personal insurance, income tax, house rent allowance, conveyance, etc. for payment by the factory also is included in the emoluments. \n",
    "\n",
    "<b>Allcott equivalent</b>\n",
    "\n",
    "+ Labor: empTotalAverage -> totpersons"
   ]
  },
  {
   "cell_type": "code",
   "execution_count": 11,
   "metadata": {
    "collapsed": true,
    "run_control": {
     "frozen": false,
     "read_only": false
    }
   },
   "outputs": [],
   "source": [
    "LW = extract(letter = \"E\", \n",
    "            condition_column = \"E_I1\",\n",
    "            condition_value = \"Total employees\",\n",
    "            columns_to_keep = [\"E_I6\", \"E_I8\"],\n",
    "            new_column_names = [\"L\", \"W\"])"
   ]
  },
  {
   "cell_type": "code",
   "execution_count": 12,
   "metadata": {
    "run_control": {
     "frozen": false,
     "read_only": false
    }
   },
   "outputs": [
    {
     "data": {
      "text/html": [
       "<div>\n",
       "<style scoped>\n",
       "    .dataframe tbody tr th:only-of-type {\n",
       "        vertical-align: middle;\n",
       "    }\n",
       "\n",
       "    .dataframe tbody tr th {\n",
       "        vertical-align: top;\n",
       "    }\n",
       "\n",
       "    .dataframe thead tr th {\n",
       "        text-align: left;\n",
       "    }\n",
       "\n",
       "    .dataframe thead tr:last-of-type th {\n",
       "        text-align: right;\n",
       "    }\n",
       "</style>\n",
       "<table border=\"1\" class=\"dataframe\">\n",
       "  <thead>\n",
       "    <tr>\n",
       "      <th></th>\n",
       "      <th></th>\n",
       "      <th>L</th>\n",
       "      <th>W</th>\n",
       "    </tr>\n",
       "    <tr>\n",
       "      <th>FACT_ID</th>\n",
       "      <th>YEAR</th>\n",
       "      <th></th>\n",
       "      <th></th>\n",
       "    </tr>\n",
       "  </thead>\n",
       "  <tbody>\n",
       "    <tr>\n",
       "      <th>0000133F</th>\n",
       "      <th>2009</th>\n",
       "      <td>10</td>\n",
       "      <td>887775.0</td>\n",
       "    </tr>\n",
       "    <tr>\n",
       "      <th rowspan=\"2\" valign=\"top\">0000206F</th>\n",
       "      <th>2008</th>\n",
       "      <td>167</td>\n",
       "      <td>7441445.0</td>\n",
       "    </tr>\n",
       "    <tr>\n",
       "      <th>2009</th>\n",
       "      <td>128</td>\n",
       "      <td>8020466.0</td>\n",
       "    </tr>\n",
       "    <tr>\n",
       "      <th rowspan=\"2\" valign=\"top\">0000208B</th>\n",
       "      <th>2008</th>\n",
       "      <td>244</td>\n",
       "      <td>4162863.0</td>\n",
       "    </tr>\n",
       "    <tr>\n",
       "      <th>2009</th>\n",
       "      <td>253</td>\n",
       "      <td>4250227.0</td>\n",
       "    </tr>\n",
       "  </tbody>\n",
       "</table>\n",
       "</div>"
      ],
      "text/plain": [
       "                 L          W\n",
       "FACT_ID  YEAR                \n",
       "0000133F 2009   10   887775.0\n",
       "0000206F 2008  167  7441445.0\n",
       "         2009  128  8020466.0\n",
       "0000208B 2008  244  4162863.0\n",
       "         2009  253  4250227.0"
      ]
     },
     "execution_count": 12,
     "metadata": {},
     "output_type": "execute_result"
    }
   ],
   "source": [
    "LW.head()"
   ]
  },
  {
   "cell_type": "markdown",
   "metadata": {},
   "source": [
    "### Materials\n",
    "\n",
    "Materials are the sum of the value of imported and indigenous goods (raw materials, components, chemicals, packing material, etc.) which entered into the production process of the factory during the accounting year, in Rupees.\n",
    "\n",
    "<b>Data:</b> \n",
    "\n",
    "+ Imported: Columns I_I6 (purchase value of imported inputs) where I_I1 (Field) == 7 (representing \"total\")\n",
    "\n",
    "+ Indigenous: Columns H_I6 (purchase value of indigenous inputs) where H_I1 (Field) == \"Total\"\n",
    "\n",
    "<b>Allcott equivalent</b>\n",
    "\n",
    "None\n",
    "\n",
    "<b>Notes</b>\n",
    "\n",
    "Allcott has a variable called `matls`, but his definition of materials excludes electricity and fuel. In our analysis both electricity and fuel and lumped with other inputs."
   ]
  },
  {
   "cell_type": "code",
   "execution_count": 13,
   "metadata": {
    "run_control": {
     "frozen": false,
     "read_only": false
    }
   },
   "outputs": [],
   "source": [
    "# Imported materials\n",
    "M1 = extract(letter = \"I\", \n",
    "             condition_column = \"I_I1\",\n",
    "             condition_value = 7,\n",
    "             columns_to_keep = [\"I_I6\"],\n",
    "             new_column_names = [\"M1\"])\n",
    "\n",
    "# Indigenous_materials\n",
    "M2 = extract(letter = \"H\", \n",
    "             condition_column = \"H_I1\",\n",
    "             condition_value = \"\\\\bTotal\\\\b\", # Make sure not to match TotalBasic, etc\n",
    "             columns_to_keep = [\"H_I6\"],\n",
    "             new_column_names = [\"M2\"])\n",
    "\n",
    "M = pd.DataFrame(pd.concat([M1, M2], axis = 1).fillna(0).sum(1))\n",
    "M.columns = [\"M\"]"
   ]
  },
  {
   "cell_type": "code",
   "execution_count": 14,
   "metadata": {
    "run_control": {
     "frozen": false,
     "read_only": false
    }
   },
   "outputs": [
    {
     "data": {
      "text/html": [
       "<div>\n",
       "<style scoped>\n",
       "    .dataframe tbody tr th:only-of-type {\n",
       "        vertical-align: middle;\n",
       "    }\n",
       "\n",
       "    .dataframe tbody tr th {\n",
       "        vertical-align: top;\n",
       "    }\n",
       "\n",
       "    .dataframe thead th {\n",
       "        text-align: right;\n",
       "    }\n",
       "</style>\n",
       "<table border=\"1\" class=\"dataframe\">\n",
       "  <thead>\n",
       "    <tr style=\"text-align: right;\">\n",
       "      <th></th>\n",
       "      <th></th>\n",
       "      <th>M</th>\n",
       "    </tr>\n",
       "    <tr>\n",
       "      <th>FACT_ID</th>\n",
       "      <th>YEAR</th>\n",
       "      <th></th>\n",
       "    </tr>\n",
       "  </thead>\n",
       "  <tbody>\n",
       "    <tr>\n",
       "      <th>0000133F</th>\n",
       "      <th>2009</th>\n",
       "      <td>720617.0</td>\n",
       "    </tr>\n",
       "    <tr>\n",
       "      <th rowspan=\"2\" valign=\"top\">0000206F</th>\n",
       "      <th>2008</th>\n",
       "      <td>19017192.0</td>\n",
       "    </tr>\n",
       "    <tr>\n",
       "      <th>2009</th>\n",
       "      <td>19527426.0</td>\n",
       "    </tr>\n",
       "    <tr>\n",
       "      <th rowspan=\"2\" valign=\"top\">0000208B</th>\n",
       "      <th>2008</th>\n",
       "      <td>3312668.0</td>\n",
       "    </tr>\n",
       "    <tr>\n",
       "      <th>2009</th>\n",
       "      <td>5102722.0</td>\n",
       "    </tr>\n",
       "  </tbody>\n",
       "</table>\n",
       "</div>"
      ],
      "text/plain": [
       "                        M\n",
       "FACT_ID  YEAR            \n",
       "0000133F 2009    720617.0\n",
       "0000206F 2008  19017192.0\n",
       "         2009  19527426.0\n",
       "0000208B 2008   3312668.0\n",
       "         2009   5102722.0"
      ]
     },
     "execution_count": 14,
     "metadata": {},
     "output_type": "execute_result"
    }
   ],
   "source": [
    "M.head()"
   ]
  },
  {
   "cell_type": "markdown",
   "metadata": {},
   "source": [
    "Join every variable by \"FACT_ID\" and \"YEAR\"."
   ]
  },
  {
   "cell_type": "code",
   "execution_count": 12,
   "metadata": {
    "collapsed": true,
    "run_control": {
     "frozen": false,
     "read_only": false
    }
   },
   "outputs": [],
   "source": [
    "df = pd.concat([Y, K, LW, M], axis = 1, join = \"outer\")"
   ]
  },
  {
   "cell_type": "code",
   "execution_count": 13,
   "metadata": {
    "collapsed": true,
    "run_control": {
     "frozen": false,
     "read_only": false
    }
   },
   "outputs": [],
   "source": [
    "df.to_csv(\"blocks_B-J.csv\")"
   ]
  },
  {
   "cell_type": "markdown",
   "metadata": {},
   "source": [
    "----"
   ]
  },
  {
   "cell_type": "markdown",
   "metadata": {},
   "source": [
    "## Factory information (ASI BLOCK A)"
   ]
  },
  {
   "cell_type": "markdown",
   "metadata": {},
   "source": [
    "Here we extract data from ASI Block A (Identification particulars).\n",
    "\n",
    "+ `FACT_ID` and `YEAR` follow the same conventions as above.\n",
    "\n",
    "+ `state` is encoded in digits 5-6 in `FACT_ID`\n",
    "\n",
    "+ `scheme` refers to *Census* or *Sample* scheme\n",
    "\n",
    "+ `urban` is recoded as dummy"
   ]
  },
  {
   "cell_type": "code",
   "execution_count": 14,
   "metadata": {
    "run_control": {
     "frozen": false,
     "read_only": false
    }
   },
   "outputs": [],
   "source": [
    "output = []\n",
    "for year in [\"2008\", \"2009\"]:\n",
    "    df = pd.read_stata(PATH_TO_ASI_FILES + \"BLA%s.dta\" % year)\n",
    "    df[\"state\"] = df[\"FACT_ID\"].apply(lambda x: x[5:7])\n",
    "    df = df.drop_duplicates(subset = \"FACT_ID\").set_index([\"FACT_ID\", \"YEAR\"])\n",
    "    open_factory = df[\"A12\"] == \"Open\"\n",
    "    df = df.loc[open_factory, [\"state\", \"A3\", \"A5\", \"A9\"]]\n",
    "    df[\"A9\"] = df[\"A9\"].replace(\"Rural\", 0).replace(\"Urban\", 1)\n",
    "    output.append(df)"
   ]
  },
  {
   "cell_type": "code",
   "execution_count": 15,
   "metadata": {
    "collapsed": true,
    "run_control": {
     "frozen": false,
     "read_only": false
    }
   },
   "outputs": [],
   "source": [
    "info = pd.concat(output).sort_index()\n",
    "info.columns = [\"state\", \"scheme\", \"nic5\", \"urban\"]"
   ]
  },
  {
   "cell_type": "code",
   "execution_count": 16,
   "metadata": {
    "collapsed": true,
    "run_control": {
     "frozen": false,
     "read_only": false
    }
   },
   "outputs": [],
   "source": [
    "info.to_csv(\"info.csv\")"
   ]
  },
  {
   "cell_type": "markdown",
   "metadata": {},
   "source": [
    "---"
   ]
  },
  {
   "cell_type": "markdown",
   "metadata": {},
   "source": [
    "# Step 2: Merge in ISIC and Deflators"
   ]
  },
  {
   "cell_type": "markdown",
   "metadata": {},
   "source": [
    "## ISIC\n",
    "\n",
    "In order to revert NIC2004 and NIC2008 codes back to 1987, we use correspondence tables provided in the <a href=\"http://unstats.un.org/unsd/cr/registry/regdnld.asp?Lg=1\">UN Statistics Division</a> website\n",
    "\n",
    "+ ISIC3.1-ISIC4.zip <a href=\"http://unstats.un.org/unsd/cr/registry/regdntransfer.asp?f=121\">link</a> (Equivalent to NIC2004 - NIC2008)\n",
    "+ ISIC3-ISIC3.1.zip <a href=\"http://unstats.un.org/unsd/cr/registry/regdntransfer.asp?f=39\">link</a> (Equivalent to NIC 1998 - NIC2004)\n",
    "+ ISIC2-ISIC3.zip <a href=\"http://unstats.un.org/unsd/cr/registry/regdntransfer.asp?f=68\">link</a> (Equivalent to NIC1987 - NIC1998)"
   ]
  },
  {
   "cell_type": "code",
   "execution_count": 17,
   "metadata": {
    "collapsed": true,
    "run_control": {
     "frozen": false,
     "read_only": false
    }
   },
   "outputs": [],
   "source": [
    "isic2_3 = pd.read_table(PATH_TO_ISIC + \"ISIC3-ISIC2.txt\", sep = \",\")[[\"ISIC3\", \"ISIC2\"]].applymap(pad_zeros)\n",
    "isic3_31 = pd.read_table(PATH_TO_ISIC + \"ISIC3-ISIC31.txt\", sep = \",\", na_values = \"n/a\")[[\"Rev3\", \"Rev31\"]].dropna().applymap(pad_zeros)\n",
    "isic3_31.columns = [\"ISIC3\", \"ISIC31\"]\n",
    "isic31_4 = pd.read_table(PATH_TO_ISIC + \"ISIC4-ISIC31.txt\", sep = \",\", na_values = \"n/a\")[[\"ISIC31code\",\"ISIC4code\"]].applymap(pad_zeros)\n",
    "isic31_4.columns = [\"ISIC31\", \"ISIC4\"]\n",
    "isic = pd.merge(isic2_3, isic3_31, on = \"ISIC3\")\n",
    "isic = pd.merge(isic, isic31_4, on = \"ISIC31\")\n",
    "isic.to_csv(\"isic_correspondences.csv\", index = False)"
   ]
  },
  {
   "cell_type": "markdown",
   "metadata": {},
   "source": [
    "---"
   ]
  },
  {
   "cell_type": "markdown",
   "metadata": {},
   "source": [
    "## <b>Deflators</b>"
   ]
  },
  {
   "cell_type": "markdown",
   "metadata": {
    "run_control": {
     "frozen": false,
     "read_only": false
    }
   },
   "source": [
    "We deflate output, material inputs and capital using Allcott's deflators.\n",
    "\n",
    "We also deflate wages using a national deflator, also from Allcott's files."
   ]
  },
  {
   "cell_type": "markdown",
   "metadata": {},
   "source": [
    "From Allcott's appendix\n",
    "\n",
    "> All financial amounts are deflated to constant 2004-05 Rupees. <b>Revenue</b> (gross sales) is deflated by a three-digit commodity price deflators as available in the commodity-based table “Index Numbers Of Wholesale Prices In India – By Groups And Sub-Groups (Yearly Averages)” produced by the Office of the Economic Adviser-Ministry of Commerce & Industry.2 Each three-digit NIC-1987 code is assigned to a commodity listed in this table. The corresponding commodity de- flator is used to deflate revenues. To deflate <b>material inputs</b>, we construct the average output deflator of a given industry’s supplier industries based on India’s 1993-94 input-output table, available from the Central Statistical Organization. (...) <b>Capital</b> is deflated by an implied national deflator calculated from “Table 13: Sector-wise Gross Capital Formation” from the Reserve Bank of India’s Handbook of Statistics on the Indian Economy.3 Electricity costs are deflated using a national GDP deflator.\n",
    "\n",
    "\n",
    "#### Comments\n",
    "\n",
    "1) For future reference, the relevant input-output table for the years 2007-2008 can be found <a href=\"http://mospi.nic.in/sites/default/files/reports_and_publication/cso_national_accounts/input_output_transactions_table/2007_08/Binder1%201.pdf\">here</a>.\n",
    "\n",
    "2) Allcott has a \"state gdp deflator\" in his code. It's not clear how it's used, and it's not among the available files in this website.\n",
    "\n",
    "### &#9760; IMPORTANT: No NIC-specific deflators for non-manufacturing firms\n",
    "\n",
    "Allcott only has input and output deflators for manufacturing firms. For other kinds of firms, we impute the overall average for that year.\n"
   ]
  },
  {
   "cell_type": "code",
   "execution_count": 18,
   "metadata": {
    "collapsed": true,
    "run_control": {
     "frozen": false,
     "read_only": false
    }
   },
   "outputs": [],
   "source": [
    "deflator_years = [2007, 2008]"
   ]
  },
  {
   "cell_type": "markdown",
   "metadata": {},
   "source": [
    "The next columns read Allcott deflator files and grab the information pertinent to years 2007 and 2008."
   ]
  },
  {
   "cell_type": "code",
   "execution_count": 19,
   "metadata": {
    "collapsed": true,
    "run_control": {
     "frozen": false,
     "read_only": false
    }
   },
   "outputs": [],
   "source": [
    "input_deflator = pd.read_stata(PATH_TO_DEFLATORS + \"final input deflator.dta\")\n",
    "input_deflator = input_deflator[input_deflator[\"year\"].isin(deflator_years)]\n",
    "input_deflator[\"input_deflator\"] /= 100 "
   ]
  },
  {
   "cell_type": "code",
   "execution_count": 20,
   "metadata": {
    "collapsed": true,
    "run_control": {
     "frozen": false,
     "read_only": false
    }
   },
   "outputs": [],
   "source": [
    "output_deflator = pd.read_stata(Deflators + \"final output deflator.dta\")\n",
    "output_deflator = output_deflator[output_deflator[\"year\"].isin(deflator_years)]\n",
    "output_deflator.rename(columns = {\"deflator\": \"output_deflator\"}, inplace = True)\n",
    "output_deflator[\"output_deflator\"] /= 100 "
   ]
  },
  {
   "cell_type": "code",
   "execution_count": 21,
   "metadata": {
    "collapsed": true,
    "run_control": {
     "frozen": false,
     "read_only": false
    }
   },
   "outputs": [],
   "source": [
    "national_deflator = pd.read_csv(PATH_TO_DEFLATORS + \"gdp deflator national.csv\")\n",
    "national_deflator = national_deflator[national_deflator[\"year\"].isin(deflator_years)]\n",
    "national_deflator.rename(columns= {\"gdp_defl_natl\":\"national_deflator\"}, inplace = True)\n",
    "national_deflator[\"national_deflator\"] /= 100"
   ]
  },
  {
   "cell_type": "code",
   "execution_count": 22,
   "metadata": {
    "collapsed": true,
    "run_control": {
     "frozen": false,
     "read_only": false
    }
   },
   "outputs": [],
   "source": [
    "capital_deflator = pd.read_csv(PATH_TO_DEFLATORS + \"RBI Capital Formation Accounts.csv\")\n",
    "capital_deflator[\"Year\"] = capital_deflator[\"Year\"].apply(lambda x: int(str(x)[:4]))\n",
    "capital_deflator = capital_deflator[capital_deflator[\"Year\"].isin(deflator_years)][[\"Year\",\"Capital_Deflator\"]]\n",
    "capital_deflator.columns = [\"year\", \"capital_deflator\"]"
   ]
  },
  {
   "cell_type": "code",
   "execution_count": 23,
   "metadata": {
    "collapsed": true,
    "run_control": {
     "frozen": false,
     "read_only": false
    }
   },
   "outputs": [],
   "source": [
    "deflator = pd.merge(input_deflator, national_deflator)\n",
    "deflator = pd.merge(deflator, output_deflator)\n",
    "deflator = pd.merge(deflator, capital_deflator)"
   ]
  },
  {
   "cell_type": "code",
   "execution_count": 24,
   "metadata": {
    "collapsed": true,
    "run_control": {
     "frozen": false,
     "read_only": false
    }
   },
   "outputs": [],
   "source": [
    "deflator.rename(columns = {\"nic3digit\": \"NIC1987\", \"year\":\"YEAR\"}, inplace = True)"
   ]
  },
  {
   "cell_type": "code",
   "execution_count": 25,
   "metadata": {
    "collapsed": true,
    "run_control": {
     "frozen": false,
     "read_only": false
    }
   },
   "outputs": [],
   "source": [
    "deflator[\"YEAR\"] += 1 # To agree with main data set "
   ]
  },
  {
   "cell_type": "code",
   "execution_count": 26,
   "metadata": {
    "collapsed": true,
    "run_control": {
     "frozen": false,
     "read_only": false
    }
   },
   "outputs": [],
   "source": [
    "deflator.to_csv(\"deflators.csv\")"
   ]
  },
  {
   "cell_type": "code",
   "execution_count": 27,
   "metadata": {
    "run_control": {
     "frozen": false,
     "read_only": false
    }
   },
   "outputs": [
    {
     "data": {
      "text/html": [
       "<div>\n",
       "<style>\n",
       "    .dataframe thead tr:only-child th {\n",
       "        text-align: right;\n",
       "    }\n",
       "\n",
       "    .dataframe thead th {\n",
       "        text-align: left;\n",
       "    }\n",
       "\n",
       "    .dataframe tbody tr th {\n",
       "        vertical-align: top;\n",
       "    }\n",
       "</style>\n",
       "<table border=\"1\" class=\"dataframe\">\n",
       "  <thead>\n",
       "    <tr style=\"text-align: right;\">\n",
       "      <th></th>\n",
       "      <th>NIC1987</th>\n",
       "      <th>YEAR</th>\n",
       "      <th>input_deflator</th>\n",
       "      <th>national_deflator</th>\n",
       "      <th>output_deflator</th>\n",
       "      <th>capital_deflator</th>\n",
       "    </tr>\n",
       "  </thead>\n",
       "  <tbody>\n",
       "    <tr>\n",
       "      <th>0</th>\n",
       "      <td>200</td>\n",
       "      <td>2008</td>\n",
       "      <td>1.108265</td>\n",
       "      <td>1.173171</td>\n",
       "      <td>1.10197</td>\n",
       "      <td>1.147185</td>\n",
       "    </tr>\n",
       "    <tr>\n",
       "      <th>1</th>\n",
       "      <td>201</td>\n",
       "      <td>2008</td>\n",
       "      <td>1.108265</td>\n",
       "      <td>1.173171</td>\n",
       "      <td>1.17331</td>\n",
       "      <td>1.147185</td>\n",
       "    </tr>\n",
       "    <tr>\n",
       "      <th>2</th>\n",
       "      <td>202</td>\n",
       "      <td>2008</td>\n",
       "      <td>1.108265</td>\n",
       "      <td>1.173171</td>\n",
       "      <td>1.10197</td>\n",
       "      <td>1.147185</td>\n",
       "    </tr>\n",
       "  </tbody>\n",
       "</table>\n",
       "</div>"
      ],
      "text/plain": [
       "   NIC1987  YEAR  input_deflator  national_deflator  output_deflator  \\\n",
       "0      200  2008        1.108265           1.173171          1.10197   \n",
       "1      201  2008        1.108265           1.173171          1.17331   \n",
       "2      202  2008        1.108265           1.173171          1.10197   \n",
       "\n",
       "   capital_deflator  \n",
       "0          1.147185  \n",
       "1          1.147185  \n",
       "2          1.147185  "
      ]
     },
     "execution_count": 27,
     "metadata": {},
     "output_type": "execute_result"
    }
   ],
   "source": [
    "deflator.head(3)"
   ]
  },
  {
   "cell_type": "markdown",
   "metadata": {},
   "source": [
    "----"
   ]
  },
  {
   "cell_type": "markdown",
   "metadata": {},
   "source": [
    "## Merging"
   ]
  },
  {
   "cell_type": "code",
   "execution_count": 28,
   "metadata": {
    "collapsed": true,
    "run_control": {
     "frozen": false,
     "read_only": false
    }
   },
   "outputs": [],
   "source": [
    "info = pd.read_csv(\"info.csv\")                # Extracted from ASI dataset block A\n",
    "blocks_bj = pd.read_csv(\"blocks_B-J.csv\")     # Extracted from ASI dataset blocks B-J\n",
    "deflator = pd.read_csv(\"deflators.csv\")       # Allcott's deflator files\n",
    "isic = pd.read_csv(\"isic_correspondences.csv\").applymap(str)"
   ]
  },
  {
   "cell_type": "markdown",
   "metadata": {},
   "source": [
    "Merge ISIC to Block-A information"
   ]
  },
  {
   "cell_type": "code",
   "execution_count": 29,
   "metadata": {
    "collapsed": true,
    "run_control": {
     "frozen": false,
     "read_only": false
    }
   },
   "outputs": [],
   "source": [
    "info[\"nic4\"] = info[\"nic5\"].apply(lambda x: str(x)[:4])"
   ]
  },
  {
   "cell_type": "code",
   "execution_count": 30,
   "metadata": {
    "collapsed": true,
    "run_control": {
     "frozen": false,
     "read_only": false
    }
   },
   "outputs": [],
   "source": [
    "info8 = pd.merge(info[info[\"YEAR\"] == 2008], \n",
    "                 isic, \n",
    "                 left_on = \"nic4\", \n",
    "                 right_on = \"ISIC31\",\n",
    "                 how = \"left\")"
   ]
  },
  {
   "cell_type": "code",
   "execution_count": 31,
   "metadata": {
    "collapsed": true,
    "run_control": {
     "frozen": false,
     "read_only": false
    }
   },
   "outputs": [],
   "source": [
    "info9 = pd.merge(info[info[\"YEAR\"] == 2009], \n",
    "                 isic, \n",
    "                 left_on = \"nic4\", \n",
    "                 right_on = \"ISIC4\",\n",
    "                 how = \"left\")"
   ]
  },
  {
   "cell_type": "markdown",
   "metadata": {},
   "source": [
    "### &#9760; IMPORTANT  NIC concordance information is insufficient\n",
    " \t\n",
    "\n",
    "We are trying to replicate this from Allcott's appendix:\n",
    "\n",
    "> [NIC] classifications were revised in 1987, 1988, 2004 and 2008. We convert all industry classifications to the NIC-1987 scheme using concordances provided by MOSPI [India Ministry of Statistics and Programme Implementation]\n",
    "\n",
    "(Note: we would not need to bother with this, if it weren't for the fact that Allcott's input and output deflators use NIC1987 information.)\n",
    "\n",
    "The concordance table mentioned by Allcott is probably <a href=\"http://udyogaadhaar.gov.in/ua/Document/nic_2008_17apr09.pdf\">this</a> one (see page 121).\n",
    "\n",
    "\n",
    "One issue we face here is that the table contains only partial information there about how to merge NIC2004 and NIC2008. For example, using the table we know the following mapping:\n",
    "\n",
    "| NIC2004 |  NIC2008 |\n",
    "|:-:|:-:|\n",
    "| 3699  | 1512  |\n",
    "| 1912  | 1512  |\n",
    "| 3699  | 1629  |\n",
    "| 3699  | 1709  |\n",
    "| 3699  | 3212  |\n",
    "| 3699  | 3290  |\n",
    "\n",
    "\n",
    "That is, part of what was 3699 in NIC2004 now corresponds to 1512 in NIC2008, and the rest comes from 1921. Moreover, some of 3699 ended up in 1629, 1709, etc. \n",
    "\n",
    "However, we do not know which parts of 3699 went to which code, and we don't know which parts of 1512 came from 3699 and which came from 1912.\n",
    "\n",
    "<b>At the moment, we are artificially creating a one-to-one mapping by choosing one of the NICs at random.</b>\n",
    "\n",
    "Allcott does pretty much the same: there are files named (e.g.) `NIC0408Crosswalk_4digit.dta` that seem to provide a one-to-many mapping from NIC2004 to NIC2008. However, they are also imperfect mappings. For example, they will map NIC2004 3699 into NIC2008 3290 and 3212 categories, but it will ignore the possibility that 3699 might go into 1512, 1629 and 3290. \n",
    "\n",
    "So we could instead use Allcott's mappings, but they are not perfect either."
   ]
  },
  {
   "cell_type": "code",
   "execution_count": 32,
   "metadata": {
    "collapsed": true,
    "run_control": {
     "frozen": false,
     "read_only": false
    }
   },
   "outputs": [],
   "source": [
    "info8 = info8.drop_duplicates(\"FACT_ID\") \n",
    "info9 = info9.drop_duplicates(\"FACT_ID\")"
   ]
  },
  {
   "cell_type": "code",
   "execution_count": 33,
   "metadata": {
    "collapsed": true,
    "run_control": {
     "frozen": false,
     "read_only": false
    }
   },
   "outputs": [],
   "source": [
    "info = pd.concat([info8, info9])\n",
    "info[\"NIC1987\"] = info[\"ISIC2\"].apply(lambda x: str(x)[:3])"
   ]
  },
  {
   "cell_type": "code",
   "execution_count": 34,
   "metadata": {
    "collapsed": true,
    "run_control": {
     "frozen": false,
     "read_only": false
    }
   },
   "outputs": [],
   "source": [
    "nans = info[\"ISIC4\"].isnull().sum()"
   ]
  },
  {
   "cell_type": "code",
   "execution_count": 35,
   "metadata": {
    "collapsed": true,
    "run_control": {
     "frozen": false,
     "read_only": false
    }
   },
   "outputs": [],
   "source": [
    "info[[\"ISIC3\",\"ISIC2\",\"ISIC31\",\"ISIC4\"]] = info[[\"ISIC3\",\"ISIC2\",\"ISIC31\",\"ISIC4\"]].fillna(\"9999\")\n",
    "info[\"NIC1987\"] = info[\"NIC1987\"].fillna(\"9999\")"
   ]
  },
  {
   "cell_type": "code",
   "execution_count": 36,
   "metadata": {
    "run_control": {
     "frozen": false,
     "read_only": false
    }
   },
   "outputs": [
    {
     "name": "stdout",
     "output_type": "stream",
     "text": [
      "Filled 2705 missing industry codes with 9999.\n"
     ]
    }
   ],
   "source": [
    "print(\"Filled\", nans, \"missing industry codes with 9999.\")"
   ]
  },
  {
   "cell_type": "markdown",
   "metadata": {},
   "source": [
    "Merge in variables extracted from blocks B-J."
   ]
  },
  {
   "cell_type": "code",
   "execution_count": 37,
   "metadata": {
    "collapsed": true,
    "run_control": {
     "frozen": false,
     "read_only": false
    }
   },
   "outputs": [],
   "source": [
    "df = pd.merge(blocks_bj, info, on= [\"FACT_ID\", \"YEAR\"])"
   ]
  },
  {
   "cell_type": "markdown",
   "metadata": {},
   "source": [
    "#### Merge deflators\n",
    "\n",
    "Recall that deflators only exist for manufacturing NICs."
   ]
  },
  {
   "cell_type": "code",
   "execution_count": 38,
   "metadata": {
    "run_control": {
     "frozen": false,
     "read_only": false
    }
   },
   "outputs": [
    {
     "data": {
      "text/plain": [
       "(76594, 23)"
      ]
     },
     "execution_count": 38,
     "metadata": {},
     "output_type": "execute_result"
    }
   ],
   "source": [
    "deflator[\"NIC1987\"] = deflator[\"NIC1987\"].astype(str)\n",
    "df = pd.merge(df, deflator, on= [\"YEAR\", \"NIC1987\"], how = \"left\")\n",
    "df.shape"
   ]
  },
  {
   "cell_type": "markdown",
   "metadata": {},
   "source": [
    "For non-manufacturing NICs, impute average deflator for that year."
   ]
  },
  {
   "cell_type": "code",
   "execution_count": 39,
   "metadata": {
    "run_control": {
     "frozen": false,
     "read_only": false
    }
   },
   "outputs": [],
   "source": [
    "for defl in [\"input_deflator\", \"national_deflator\", \"output_deflator\", \"capital_deflator\"]:\n",
    "    for year in [2008, 2009]:\n",
    "        avg_defl = df.loc[df[\"YEAR\"] == year, defl].mean()\n",
    "        df[defl] = df[defl].fillna(avg_defl)"
   ]
  },
  {
   "cell_type": "code",
   "execution_count": 40,
   "metadata": {
    "run_control": {
     "frozen": false,
     "read_only": false
    }
   },
   "outputs": [
    {
     "name": "stdout",
     "output_type": "stream",
     "text": [
      "(76594, 23)\n"
     ]
    }
   ],
   "source": [
    "df.to_csv(\"merged.csv\") # Just to checkpoint\n",
    "print(df.shape)"
   ]
  },
  {
   "cell_type": "code",
   "execution_count": 41,
   "metadata": {
    "run_control": {
     "frozen": false,
     "read_only": false
    }
   },
   "outputs": [
    {
     "data": {
      "text/html": [
       "<div>\n",
       "<style>\n",
       "    .dataframe thead tr:only-child th {\n",
       "        text-align: right;\n",
       "    }\n",
       "\n",
       "    .dataframe thead th {\n",
       "        text-align: left;\n",
       "    }\n",
       "\n",
       "    .dataframe tbody tr th {\n",
       "        vertical-align: top;\n",
       "    }\n",
       "</style>\n",
       "<table border=\"1\" class=\"dataframe\">\n",
       "  <thead>\n",
       "    <tr style=\"text-align: right;\">\n",
       "      <th></th>\n",
       "      <th>FACT_ID</th>\n",
       "      <th>YEAR</th>\n",
       "      <th>Y</th>\n",
       "      <th>K_open</th>\n",
       "      <th>K_close</th>\n",
       "      <th>L</th>\n",
       "      <th>W</th>\n",
       "      <th>M</th>\n",
       "      <th>state</th>\n",
       "      <th>scheme</th>\n",
       "      <th>...</th>\n",
       "      <th>ISIC3</th>\n",
       "      <th>ISIC2</th>\n",
       "      <th>ISIC31</th>\n",
       "      <th>ISIC4</th>\n",
       "      <th>NIC1987</th>\n",
       "      <th>Unnamed: 0</th>\n",
       "      <th>input_deflator</th>\n",
       "      <th>national_deflator</th>\n",
       "      <th>output_deflator</th>\n",
       "      <th>capital_deflator</th>\n",
       "    </tr>\n",
       "  </thead>\n",
       "  <tbody>\n",
       "    <tr>\n",
       "      <th>0</th>\n",
       "      <td>0000133F</td>\n",
       "      <td>2009</td>\n",
       "      <td>2175183.0</td>\n",
       "      <td>384241.0</td>\n",
       "      <td>644280.0</td>\n",
       "      <td>10.0</td>\n",
       "      <td>887775.0</td>\n",
       "      <td>720617.0</td>\n",
       "      <td>33</td>\n",
       "      <td>Sample</td>\n",
       "      <td>...</td>\n",
       "      <td>2695</td>\n",
       "      <td>3699</td>\n",
       "      <td>2695</td>\n",
       "      <td>2395</td>\n",
       "      <td>369</td>\n",
       "      <td>343.0</td>\n",
       "      <td>1.231560</td>\n",
       "      <td>1.274822</td>\n",
       "      <td>1.013428</td>\n",
       "      <td>1.229909</td>\n",
       "    </tr>\n",
       "    <tr>\n",
       "      <th>1</th>\n",
       "      <td>0000206F</td>\n",
       "      <td>2008</td>\n",
       "      <td>33497412.0</td>\n",
       "      <td>8023505.0</td>\n",
       "      <td>8232079.0</td>\n",
       "      <td>167.0</td>\n",
       "      <td>7441445.0</td>\n",
       "      <td>19017192.0</td>\n",
       "      <td>6</td>\n",
       "      <td>Census</td>\n",
       "      <td>...</td>\n",
       "      <td>2423</td>\n",
       "      <td>3522</td>\n",
       "      <td>2423</td>\n",
       "      <td>2100</td>\n",
       "      <td>352</td>\n",
       "      <td>144.0</td>\n",
       "      <td>1.322133</td>\n",
       "      <td>1.173171</td>\n",
       "      <td>1.172029</td>\n",
       "      <td>1.147185</td>\n",
       "    </tr>\n",
       "    <tr>\n",
       "      <th>2</th>\n",
       "      <td>0000206F</td>\n",
       "      <td>2009</td>\n",
       "      <td>32533041.0</td>\n",
       "      <td>8232079.0</td>\n",
       "      <td>8881984.0</td>\n",
       "      <td>128.0</td>\n",
       "      <td>8020466.0</td>\n",
       "      <td>19527426.0</td>\n",
       "      <td>6</td>\n",
       "      <td>Census</td>\n",
       "      <td>...</td>\n",
       "      <td>1721</td>\n",
       "      <td>3212</td>\n",
       "      <td>1721</td>\n",
       "      <td>3250</td>\n",
       "      <td>321</td>\n",
       "      <td>298.0</td>\n",
       "      <td>1.389533</td>\n",
       "      <td>1.274822</td>\n",
       "      <td>1.090890</td>\n",
       "      <td>1.229909</td>\n",
       "    </tr>\n",
       "  </tbody>\n",
       "</table>\n",
       "<p>3 rows × 23 columns</p>\n",
       "</div>"
      ],
      "text/plain": [
       "    FACT_ID  YEAR           Y     K_open    K_close      L          W  \\\n",
       "0  0000133F  2009   2175183.0   384241.0   644280.0   10.0   887775.0   \n",
       "1  0000206F  2008  33497412.0  8023505.0  8232079.0  167.0  7441445.0   \n",
       "2  0000206F  2009  32533041.0  8232079.0  8881984.0  128.0  8020466.0   \n",
       "\n",
       "            M  state  scheme        ...         ISIC3  ISIC2 ISIC31 ISIC4  \\\n",
       "0    720617.0     33  Sample        ...          2695   3699   2695  2395   \n",
       "1  19017192.0      6  Census        ...          2423   3522   2423  2100   \n",
       "2  19527426.0      6  Census        ...          1721   3212   1721  3250   \n",
       "\n",
       "  NIC1987 Unnamed: 0 input_deflator national_deflator  output_deflator  \\\n",
       "0     369      343.0       1.231560          1.274822         1.013428   \n",
       "1     352      144.0       1.322133          1.173171         1.172029   \n",
       "2     321      298.0       1.389533          1.274822         1.090890   \n",
       "\n",
       "   capital_deflator  \n",
       "0          1.229909  \n",
       "1          1.147185  \n",
       "2          1.229909  \n",
       "\n",
       "[3 rows x 23 columns]"
      ]
     },
     "execution_count": 41,
     "metadata": {},
     "output_type": "execute_result"
    }
   ],
   "source": [
    "df.head(3)"
   ]
  },
  {
   "cell_type": "markdown",
   "metadata": {},
   "source": [
    "---"
   ]
  },
  {
   "cell_type": "markdown",
   "metadata": {},
   "source": [
    "# Step 3) Clean and produce intermediate sample"
   ]
  },
  {
   "cell_type": "code",
   "execution_count": 42,
   "metadata": {
    "collapsed": true,
    "run_control": {
     "frozen": false,
     "read_only": false
    }
   },
   "outputs": [],
   "source": [
    "df = pd.read_csv(\"merged.csv\")"
   ]
  },
  {
   "cell_type": "code",
   "execution_count": 43,
   "metadata": {
    "run_control": {
     "frozen": false,
     "read_only": false
    }
   },
   "outputs": [
    {
     "name": "stdout",
     "output_type": "stream",
     "text": [
      "Initial number of observations:  76594\n"
     ]
    }
   ],
   "source": [
    "n = df.shape[0]\n",
    "print(\"Initial number of observations: \", n)"
   ]
  },
  {
   "cell_type": "markdown",
   "metadata": {},
   "source": [
    "<font color=\"red\">Drop</font> if no information on output"
   ]
  },
  {
   "cell_type": "code",
   "execution_count": 44,
   "metadata": {
    "run_control": {
     "frozen": false,
     "read_only": false
    }
   },
   "outputs": [
    {
     "name": "stdout",
     "output_type": "stream",
     "text": [
      "Dropped observations: 12127\n"
     ]
    }
   ],
   "source": [
    "df = df.dropna(subset = [\"Y\"])\n",
    "print(\"Dropped observations:\", n - df.shape[0])\n",
    "n = df.shape[0]"
   ]
  },
  {
   "cell_type": "markdown",
   "metadata": {},
   "source": [
    "<font color=\"red\">Drop</font> if unrealistic count of workers"
   ]
  },
  {
   "cell_type": "code",
   "execution_count": 45,
   "metadata": {
    "collapsed": true,
    "run_control": {
     "frozen": false,
     "read_only": false
    }
   },
   "outputs": [],
   "source": [
    "df = df[df[\"L\"] < 100000]"
   ]
  },
  {
   "cell_type": "code",
   "execution_count": 46,
   "metadata": {
    "run_control": {
     "frozen": false,
     "read_only": false
    }
   },
   "outputs": [
    {
     "name": "stdout",
     "output_type": "stream",
     "text": [
      "Dropped observations: 43\n"
     ]
    }
   ],
   "source": [
    "print(\"Dropped observations:\", n - df.shape[0])\n",
    "n = df.shape[0]"
   ]
  },
  {
   "cell_type": "markdown",
   "metadata": {},
   "source": [
    "<font color=\"red\">Drop</font> materials, capital or wages are more than twice the output"
   ]
  },
  {
   "cell_type": "code",
   "execution_count": 47,
   "metadata": {
    "collapsed": true,
    "run_control": {
     "frozen": false,
     "read_only": false
    }
   },
   "outputs": [],
   "source": [
    "df = df[df[\"M\"]/df[\"Y\"] < 2]\n",
    "df = df[df[\"K_close\"]/df[\"Y\"] < 2]\n",
    "df = df[df[\"K_open\"]/df[\"Y\"] < 2]\n",
    "df = df[df[\"W\"]/df[\"Y\"] < 2]"
   ]
  },
  {
   "cell_type": "code",
   "execution_count": 48,
   "metadata": {
    "run_control": {
     "frozen": false,
     "read_only": false
    }
   },
   "outputs": [
    {
     "name": "stdout",
     "output_type": "stream",
     "text": [
      "Dropped observations: 4442\n"
     ]
    }
   ],
   "source": [
    "print(\"Dropped observations:\", n - df.shape[0])\n",
    "n = df.shape[0]"
   ]
  },
  {
   "cell_type": "markdown",
   "metadata": {},
   "source": [
    "<font color=\"red\">Drop</font> if not there for both years."
   ]
  },
  {
   "cell_type": "code",
   "execution_count": 49,
   "metadata": {
    "run_control": {
     "frozen": false,
     "read_only": false
    }
   },
   "outputs": [],
   "source": [
    "both_years = df.groupby(\"FACT_ID\").size() \n",
    "both_years = both_years[both_years == 2].index\n",
    "df = df.reset_index()\n",
    "df = df.loc[df[\"FACT_ID\"].isin(both_years)].set_index([\"FACT_ID\", \"YEAR\"])"
   ]
  },
  {
   "cell_type": "code",
   "execution_count": 50,
   "metadata": {
    "run_control": {
     "frozen": false,
     "read_only": false
    }
   },
   "outputs": [
    {
     "name": "stdout",
     "output_type": "stream",
     "text": [
      "Dropped observations: 32282\n"
     ]
    }
   ],
   "source": [
    "print(\"Dropped observations:\", n - df.shape[0])\n",
    "n = df.shape[0]"
   ]
  },
  {
   "cell_type": "markdown",
   "metadata": {},
   "source": [
    "<font color=\"blue\">Trim</font> regressors at zero"
   ]
  },
  {
   "cell_type": "code",
   "execution_count": 51,
   "metadata": {
    "collapsed": true,
    "run_control": {
     "frozen": false,
     "read_only": false
    }
   },
   "outputs": [],
   "source": [
    "regressors = [\"M\",\"K_close\",\"K_open\",\"Y\",\"W\",\"L\"]\n",
    "n_negs = (df[regressors] < 0).sum()"
   ]
  },
  {
   "cell_type": "code",
   "execution_count": 52,
   "metadata": {
    "run_control": {
     "frozen": false,
     "read_only": false
    }
   },
   "outputs": [],
   "source": [
    "for r in regressors:\n",
    "    df.loc[df[r] < 0, r] = 0"
   ]
  },
  {
   "cell_type": "code",
   "execution_count": 53,
   "metadata": {
    "run_control": {
     "frozen": false,
     "read_only": false
    }
   },
   "outputs": [
    {
     "name": "stdout",
     "output_type": "stream",
     "text": [
      "Changed values\n"
     ]
    },
    {
     "data": {
      "text/plain": [
       "M          0\n",
       "K_close    0\n",
       "K_open     2\n",
       "Y          0\n",
       "W          0\n",
       "L          0\n",
       "dtype: int64"
      ]
     },
     "execution_count": 53,
     "metadata": {},
     "output_type": "execute_result"
    }
   ],
   "source": [
    "print(\"Changed values\")\n",
    "n_negs"
   ]
  },
  {
   "cell_type": "markdown",
   "metadata": {},
   "source": [
    "<font color=\"blue\">Fill missing values</font> for regressors with zero"
   ]
  },
  {
   "cell_type": "code",
   "execution_count": 54,
   "metadata": {
    "run_control": {
     "frozen": false,
     "read_only": false
    }
   },
   "outputs": [
    {
     "name": "stdout",
     "output_type": "stream",
     "text": [
      "Changed values\n"
     ]
    },
    {
     "data": {
      "text/plain": [
       "M          0\n",
       "K_close    0\n",
       "K_open     0\n",
       "Y          0\n",
       "W          0\n",
       "L          0\n",
       "dtype: int64"
      ]
     },
     "execution_count": 54,
     "metadata": {},
     "output_type": "execute_result"
    }
   ],
   "source": [
    "print(\"Changed values\")\n",
    "df[regressors].isnull().sum()"
   ]
  },
  {
   "cell_type": "code",
   "execution_count": 55,
   "metadata": {
    "collapsed": true,
    "run_control": {
     "frozen": false,
     "read_only": false
    }
   },
   "outputs": [],
   "source": [
    "df[regressors] = df[regressors].fillna(0)"
   ]
  },
  {
   "cell_type": "markdown",
   "metadata": {},
   "source": [
    "<font color=\"blue\">Fill missing values</font> for NIC1987 with 999"
   ]
  },
  {
   "cell_type": "code",
   "execution_count": 56,
   "metadata": {
    "run_control": {
     "frozen": false,
     "read_only": false
    }
   },
   "outputs": [
    {
     "name": "stdout",
     "output_type": "stream",
     "text": [
      "Changing 862 values\n"
     ]
    }
   ],
   "source": [
    "print(\"Changing\", df[\"NIC1987\"].isnull().sum(), \"values\")\n",
    "df[\"NIC1987\"].fillna(\"999\", inplace = True)"
   ]
  },
  {
   "cell_type": "code",
   "execution_count": 57,
   "metadata": {
    "collapsed": true,
    "run_control": {
     "frozen": false,
     "read_only": false
    }
   },
   "outputs": [],
   "source": [
    "df.to_csv(\"clean.csv\") # Another checkpoint"
   ]
  },
  {
   "cell_type": "markdown",
   "metadata": {},
   "source": [
    "---"
   ]
  },
  {
   "cell_type": "markdown",
   "metadata": {},
   "source": [
    "### Deflating"
   ]
  },
  {
   "cell_type": "code",
   "execution_count": 58,
   "metadata": {
    "collapsed": true,
    "run_control": {
     "frozen": false,
     "read_only": false
    }
   },
   "outputs": [],
   "source": [
    "df = pd.read_csv(\"clean.csv\")"
   ]
  },
  {
   "cell_type": "markdown",
   "metadata": {},
   "source": [
    "Deflate to 2004-05 prices"
   ]
  },
  {
   "cell_type": "code",
   "execution_count": 59,
   "metadata": {
    "collapsed": true,
    "run_control": {
     "frozen": false,
     "read_only": false
    }
   },
   "outputs": [],
   "source": [
    "df[\"Y\"] /= df[\"output_deflator\"]\n",
    "df[\"M\"] /= df[\"input_deflator\"]\n",
    "df[\"K_open\"] /= df[\"capital_deflator\"]\n",
    "df[\"K_close\"] /= df[\"capital_deflator\"]\n",
    "df[\"W\"] /= df[\"national_deflator\"]"
   ]
  },
  {
   "cell_type": "markdown",
   "metadata": {},
   "source": [
    "---"
   ]
  },
  {
   "cell_type": "markdown",
   "metadata": {},
   "source": [
    "### Construct variables"
   ]
  },
  {
   "cell_type": "code",
   "execution_count": 60,
   "metadata": {
    "collapsed": true,
    "run_control": {
     "frozen": false,
     "read_only": false
    }
   },
   "outputs": [],
   "source": [
    "df[\"K_W\"] = df[\"K_open\"] / df[\"W\"]\n",
    "df[\"YM_W\"] = (df[\"Y\"] - df[\"M\"]) / df[\"W\"]"
   ]
  },
  {
   "cell_type": "code",
   "execution_count": 61,
   "metadata": {
    "collapsed": true,
    "run_control": {
     "frozen": false,
     "read_only": false
    }
   },
   "outputs": [],
   "source": [
    "keep = [\"NIC1987\", \"state\", \"scheme\",\"urban\",\"Y\", \"K_close\", \"L\", \"M\", \"W\", \"K_W\", \"YM_W\"]\n",
    "index = [\"FACT_ID\", \"YEAR\"]\n",
    "df = df.set_index(index)[keep] "
   ]
  },
  {
   "cell_type": "markdown",
   "metadata": {},
   "source": [
    "<font color=\"Darkgreen\">Create</font> <i>panelgroup</i> variable that merges state and the first two digits of NIC1987.\n",
    "\n",
    "This is to mimic Allcott's panelgroup variable as best as we can. Allcott actually used \"superNICs\". "
   ]
  },
  {
   "cell_type": "code",
   "execution_count": 62,
   "metadata": {
    "collapsed": true,
    "run_control": {
     "frozen": false,
     "read_only": false
    }
   },
   "outputs": [],
   "source": [
    "df[\"panelgroup\"] = df[\"NIC1987\"].astype(int).astype(str).apply(lambda x: x[:2]) + df[\"state\"].astype(str)"
   ]
  },
  {
   "cell_type": "code",
   "execution_count": 63,
   "metadata": {
    "collapsed": true
   },
   "outputs": [],
   "source": [
    "df.to_csv(\"intermediate.csv\")"
   ]
  },
  {
   "cell_type": "markdown",
   "metadata": {},
   "source": [
    "----"
   ]
  },
  {
   "cell_type": "markdown",
   "metadata": {},
   "source": [
    "##  &#9760; We are NOT dropping obs with extreme TFP\n",
    "\n",
    "Following Allcott's appendix:\n",
    "\n",
    "> With this intermediate sample, we use median regression to estimate revenue productivity (TFPR) under a full Cobb-Douglas model in capital, labor, materi- als, and energy and assuming constant returns to scale. This full Cobb-Douglas revenue productivity term is used only for the final sample restriction, which is to drop 4,521 plant-years which have log-TFPR greater than 3.5 in absolute value from the sample median. Such outlying TFPR values strongly suggest misreported inputs or revenues.\n",
    "\n",
    "This is done by  the Allcott's \"subroutine\" `Estimate median alphas_qreg_supernic_Nov2014.do`. However, the code is a little convoluted, and they also use information about supernics to run their regressions, so we could not follow their code even if we wanted to.\n",
    "\n",
    "Instead, I wrote an R script named `qregs.R` that uses the R library <a href=\"http://rqpd.r-forge.r-project.org/\">rqpd</a>, which implements <a href=\"http://www.sciencedirect.com/science/article/pii/S0047259X04001113\">Koenker's 2004</a> *quantile regression for longitudinal data* with and a dummy for the year, and fixed effects for the variable `panelgroup`, defined above. It loads the dataset `intermediate.csv`  runs the regression explained in the previous paragraph, trims the data set at the lower (1%) and upper (3%), and finally saves a new file named `trimmed_intermediate.csv`. "
   ]
  },
  {
   "cell_type": "code",
   "execution_count": 64,
   "metadata": {
    "collapsed": true
   },
   "outputs": [],
   "source": [
    "#!R < qregs.R --no-save  # To run this R code, uncomment me (but don't erase the initial exclamation mark)"
   ]
  },
  {
   "cell_type": "markdown",
   "metadata": {},
   "source": [
    "---"
   ]
  },
  {
   "cell_type": "markdown",
   "metadata": {},
   "source": [
    "## Final computations"
   ]
  },
  {
   "cell_type": "markdown",
   "metadata": {},
   "source": [
    "Almost there. We will compute the following two new variables.\n",
    "\n",
    "<center>\n",
    "\n",
    "`YM_W` = $\\log(\\frac{Y_{i} - M_{i}}{W_{i}})$\n",
    "<br><br>\n",
    "\n",
    "`K_W` = $\\log(\\frac{K_i}{W_{i}})$\n",
    "\n",
    "</center>"
   ]
  },
  {
   "cell_type": "code",
   "execution_count": 65,
   "metadata": {
    "collapsed": true
   },
   "outputs": [],
   "source": [
    "df = pd.read_csv(\"intermediate.csv\")\n",
    "#df = pd.read_csv(\"trimmed_intermediate.csv\") # Uncomment this to use the trimmed data"
   ]
  },
  {
   "cell_type": "markdown",
   "metadata": {},
   "source": [
    "<font color=\"red\">Drop</font> if Y <= M (Cannot take logs!)"
   ]
  },
  {
   "cell_type": "code",
   "execution_count": 66,
   "metadata": {
    "collapsed": true,
    "run_control": {
     "frozen": false,
     "read_only": false
    }
   },
   "outputs": [],
   "source": [
    "df = df[df[\"YM_W\"] > 0]"
   ]
  },
  {
   "cell_type": "markdown",
   "metadata": {},
   "source": [
    "Take logs"
   ]
  },
  {
   "cell_type": "code",
   "execution_count": 67,
   "metadata": {
    "run_control": {
     "frozen": false,
     "read_only": false
    }
   },
   "outputs": [],
   "source": [
    "with np.errstate(divide=\"ignore\", invalid=\"ignore\"): # Suppress errors here\n",
    "    df[[\"YM_W\", \"K_W\"]] = df[[\"YM_W\", \"K_W\"]].applymap(lambda x: np.log(x))"
   ]
  },
  {
   "cell_type": "code",
   "execution_count": 68,
   "metadata": {
    "run_control": {
     "frozen": false,
     "read_only": false
    }
   },
   "outputs": [],
   "source": [
    "df = df.reset_index()"
   ]
  },
  {
   "cell_type": "markdown",
   "metadata": {},
   "source": [
    "Now pivot this table to make different years side-by-side. When dealing with the \"scheme\" column, if the firm has \"Census\" in one year but \"Sample\" in the other, we keep it as \"Sample\". Firms that belong only to the Census scheme may not be representative of the industry population. \n",
    "\n",
    "More information about different schemes <a href=\"http://mail.mospi.gov.in/index.php/catalog/164/sampling\">here</a>."
   ]
  },
  {
   "cell_type": "code",
   "execution_count": 69,
   "metadata": {
    "collapsed": true
   },
   "outputs": [],
   "source": [
    "def has_sample(sch):\n",
    "    if np.any(sch == \"Sample\"):\n",
    "        return \"Sample\"\n",
    "    else:\n",
    "        return \"Census\""
   ]
  },
  {
   "cell_type": "code",
   "execution_count": 78,
   "metadata": {
    "run_control": {
     "frozen": false,
     "read_only": false
    }
   },
   "outputs": [],
   "source": [
    "# Pivot table\n",
    "variables = [df.pivot(index = \"FACT_ID\", \n",
    "                           columns = \"YEAR\", \n",
    "                           values = v) \n",
    "                          for v in [\"K_W\", \"YM_W\"]]\n",
    "\n",
    "scheme = df.groupby(\"FACT_ID\")[\"scheme\"].apply(has_sample)\n",
    "\n",
    "df_clean = pd.concat(variables + [scheme], axis = 1).dropna()"
   ]
  },
  {
   "cell_type": "markdown",
   "metadata": {},
   "source": [
    "Renaming"
   ]
  },
  {
   "cell_type": "code",
   "execution_count": 79,
   "metadata": {
    "collapsed": true
   },
   "outputs": [],
   "source": [
    "df_clean.columns = [\"X1\", \"X2\", \"Y1\", \"Y2\", \"scheme\"]"
   ]
  },
  {
   "cell_type": "markdown",
   "metadata": {},
   "source": [
    "<font color=\"red\">Drop</font> if the procedure above led to an `inf` or a `nan`."
   ]
  },
  {
   "cell_type": "code",
   "execution_count": 81,
   "metadata": {
    "run_control": {
     "frozen": false,
     "read_only": false
    }
   },
   "outputs": [
    {
     "name": "stdout",
     "output_type": "stream",
     "text": [
      "Dropped 0 observations.\n"
     ]
    }
   ],
   "source": [
    "with pd.option_context('mode.use_inf_as_null', True):\n",
    "    n = df_clean.shape[0]\n",
    "    df_clean = df_clean.dropna() # Cleans observation whose log was inf or nan\n",
    "    print(\"Dropped\", n - df_clean.shape[0], \"observations.\")"
   ]
  },
  {
   "cell_type": "code",
   "execution_count": 82,
   "metadata": {
    "run_control": {
     "frozen": false,
     "read_only": false
    }
   },
   "outputs": [
    {
     "data": {
      "text/html": [
       "<div>\n",
       "<style>\n",
       "    .dataframe thead tr:only-child th {\n",
       "        text-align: right;\n",
       "    }\n",
       "\n",
       "    .dataframe thead th {\n",
       "        text-align: left;\n",
       "    }\n",
       "\n",
       "    .dataframe tbody tr th {\n",
       "        vertical-align: top;\n",
       "    }\n",
       "</style>\n",
       "<table border=\"1\" class=\"dataframe\">\n",
       "  <thead>\n",
       "    <tr style=\"text-align: right;\">\n",
       "      <th></th>\n",
       "      <th>X1</th>\n",
       "      <th>X2</th>\n",
       "      <th>Y1</th>\n",
       "      <th>Y2</th>\n",
       "    </tr>\n",
       "  </thead>\n",
       "  <tbody>\n",
       "    <tr>\n",
       "      <th>count</th>\n",
       "      <td>12753.000000</td>\n",
       "      <td>12753.000000</td>\n",
       "      <td>12753.000000</td>\n",
       "      <td>12753.000000</td>\n",
       "    </tr>\n",
       "    <tr>\n",
       "      <th>mean</th>\n",
       "      <td>0.996419</td>\n",
       "      <td>1.016154</td>\n",
       "      <td>1.867388</td>\n",
       "      <td>1.845008</td>\n",
       "    </tr>\n",
       "    <tr>\n",
       "      <th>std</th>\n",
       "      <td>1.471070</td>\n",
       "      <td>1.468719</td>\n",
       "      <td>1.055174</td>\n",
       "      <td>1.076660</td>\n",
       "    </tr>\n",
       "    <tr>\n",
       "      <th>min</th>\n",
       "      <td>-14.946987</td>\n",
       "      <td>-15.875411</td>\n",
       "      <td>-4.762876</td>\n",
       "      <td>-7.121545</td>\n",
       "    </tr>\n",
       "    <tr>\n",
       "      <th>25%</th>\n",
       "      <td>0.156805</td>\n",
       "      <td>0.198829</td>\n",
       "      <td>1.249176</td>\n",
       "      <td>1.205268</td>\n",
       "    </tr>\n",
       "    <tr>\n",
       "      <th>50%</th>\n",
       "      <td>1.101125</td>\n",
       "      <td>1.128113</td>\n",
       "      <td>1.850216</td>\n",
       "      <td>1.834184</td>\n",
       "    </tr>\n",
       "    <tr>\n",
       "      <th>75%</th>\n",
       "      <td>1.949576</td>\n",
       "      <td>1.979141</td>\n",
       "      <td>2.485937</td>\n",
       "      <td>2.476799</td>\n",
       "    </tr>\n",
       "    <tr>\n",
       "      <th>max</th>\n",
       "      <td>5.474800</td>\n",
       "      <td>6.740813</td>\n",
       "      <td>6.499139</td>\n",
       "      <td>9.745045</td>\n",
       "    </tr>\n",
       "  </tbody>\n",
       "</table>\n",
       "</div>"
      ],
      "text/plain": [
       "                 X1            X2            Y1            Y2\n",
       "count  12753.000000  12753.000000  12753.000000  12753.000000\n",
       "mean       0.996419      1.016154      1.867388      1.845008\n",
       "std        1.471070      1.468719      1.055174      1.076660\n",
       "min      -14.946987    -15.875411     -4.762876     -7.121545\n",
       "25%        0.156805      0.198829      1.249176      1.205268\n",
       "50%        1.101125      1.128113      1.850216      1.834184\n",
       "75%        1.949576      1.979141      2.485937      2.476799\n",
       "max        5.474800      6.740813      6.499139      9.745045"
      ]
     },
     "execution_count": 82,
     "metadata": {},
     "output_type": "execute_result"
    }
   ],
   "source": [
    "df_clean.describe()"
   ]
  },
  {
   "cell_type": "markdown",
   "metadata": {},
   "source": [
    "We finally stop here and save the file."
   ]
  },
  {
   "cell_type": "code",
   "execution_count": 73,
   "metadata": {
    "collapsed": true,
    "run_control": {
     "frozen": false,
     "read_only": false
    }
   },
   "outputs": [],
   "source": [
    "df_clean.to_csv(\"indian_data.csv\")"
   ]
  },
  {
   "cell_type": "markdown",
   "metadata": {},
   "source": [
    "----"
   ]
  },
  {
   "cell_type": "markdown",
   "metadata": {},
   "source": [
    "### Restricted sample"
   ]
  },
  {
   "cell_type": "markdown",
   "metadata": {},
   "source": [
    "Keeping only the \"sample\" scheme."
   ]
  },
  {
   "cell_type": "code",
   "execution_count": 74,
   "metadata": {},
   "outputs": [
    {
     "data": {
      "text/html": [
       "<div>\n",
       "<style>\n",
       "    .dataframe thead tr:only-child th {\n",
       "        text-align: right;\n",
       "    }\n",
       "\n",
       "    .dataframe thead th {\n",
       "        text-align: left;\n",
       "    }\n",
       "\n",
       "    .dataframe tbody tr th {\n",
       "        vertical-align: top;\n",
       "    }\n",
       "</style>\n",
       "<table border=\"1\" class=\"dataframe\">\n",
       "  <thead>\n",
       "    <tr style=\"text-align: right;\">\n",
       "      <th></th>\n",
       "      <th>X1</th>\n",
       "      <th>X2</th>\n",
       "      <th>Y1</th>\n",
       "      <th>Y2</th>\n",
       "      <th>scheme</th>\n",
       "    </tr>\n",
       "    <tr>\n",
       "      <th>FACT_ID</th>\n",
       "      <th></th>\n",
       "      <th></th>\n",
       "      <th></th>\n",
       "      <th></th>\n",
       "      <th></th>\n",
       "    </tr>\n",
       "  </thead>\n",
       "  <tbody>\n",
       "    <tr>\n",
       "      <th>0000206F</th>\n",
       "      <td>0.097710</td>\n",
       "      <td>0.061909</td>\n",
       "      <td>0.805675</td>\n",
       "      <td>0.918872</td>\n",
       "      <td>Census</td>\n",
       "    </tr>\n",
       "    <tr>\n",
       "      <th>0000208B</th>\n",
       "      <td>-4.178988</td>\n",
       "      <td>-4.322479</td>\n",
       "      <td>0.595036</td>\n",
       "      <td>0.109149</td>\n",
       "      <td>Census</td>\n",
       "    </tr>\n",
       "    <tr>\n",
       "      <th>0000706F</th>\n",
       "      <td>1.096929</td>\n",
       "      <td>1.197228</td>\n",
       "      <td>1.540723</td>\n",
       "      <td>1.271278</td>\n",
       "      <td>Sample</td>\n",
       "    </tr>\n",
       "    <tr>\n",
       "      <th>0000733F</th>\n",
       "      <td>-1.883351</td>\n",
       "      <td>-1.958287</td>\n",
       "      <td>1.045614</td>\n",
       "      <td>1.094915</td>\n",
       "      <td>Sample</td>\n",
       "    </tr>\n",
       "    <tr>\n",
       "      <th>0000806F</th>\n",
       "      <td>1.007469</td>\n",
       "      <td>1.285659</td>\n",
       "      <td>2.208538</td>\n",
       "      <td>1.981069</td>\n",
       "      <td>Census</td>\n",
       "    </tr>\n",
       "  </tbody>\n",
       "</table>\n",
       "</div>"
      ],
      "text/plain": [
       "                X1        X2        Y1        Y2  scheme\n",
       "FACT_ID                                                 \n",
       "0000206F  0.097710  0.061909  0.805675  0.918872  Census\n",
       "0000208B -4.178988 -4.322479  0.595036  0.109149  Census\n",
       "0000706F  1.096929  1.197228  1.540723  1.271278  Sample\n",
       "0000733F -1.883351 -1.958287  1.045614  1.094915  Sample\n",
       "0000806F  1.007469  1.285659  2.208538  1.981069  Census"
      ]
     },
     "execution_count": 74,
     "metadata": {},
     "output_type": "execute_result"
    }
   ],
   "source": [
    "df_clean.head()"
   ]
  },
  {
   "cell_type": "code",
   "execution_count": 75,
   "metadata": {},
   "outputs": [],
   "source": [
    "valid = df_clean[\"scheme\"] == \"Sample\"\n",
    "df_sample = df_clean.loc[valid]\n",
    "df_sample.to_csv(\"indian_data_sample_only.csv\")"
   ]
  },
  {
   "cell_type": "code",
   "execution_count": 76,
   "metadata": {},
   "outputs": [
    {
     "data": {
      "text/html": [
       "<div>\n",
       "<style>\n",
       "    .dataframe thead tr:only-child th {\n",
       "        text-align: right;\n",
       "    }\n",
       "\n",
       "    .dataframe thead th {\n",
       "        text-align: left;\n",
       "    }\n",
       "\n",
       "    .dataframe tbody tr th {\n",
       "        vertical-align: top;\n",
       "    }\n",
       "</style>\n",
       "<table border=\"1\" class=\"dataframe\">\n",
       "  <thead>\n",
       "    <tr style=\"text-align: right;\">\n",
       "      <th></th>\n",
       "      <th>X1</th>\n",
       "      <th>X2</th>\n",
       "      <th>Y1</th>\n",
       "      <th>Y2</th>\n",
       "    </tr>\n",
       "  </thead>\n",
       "  <tbody>\n",
       "    <tr>\n",
       "      <th>count</th>\n",
       "      <td>3665.000000</td>\n",
       "      <td>3665.000000</td>\n",
       "      <td>3665.000000</td>\n",
       "      <td>3665.000000</td>\n",
       "    </tr>\n",
       "    <tr>\n",
       "      <th>mean</th>\n",
       "      <td>0.925723</td>\n",
       "      <td>0.922483</td>\n",
       "      <td>1.873001</td>\n",
       "      <td>1.788654</td>\n",
       "    </tr>\n",
       "    <tr>\n",
       "      <th>std</th>\n",
       "      <td>1.469873</td>\n",
       "      <td>1.478046</td>\n",
       "      <td>1.068612</td>\n",
       "      <td>1.136582</td>\n",
       "    </tr>\n",
       "    <tr>\n",
       "      <th>min</th>\n",
       "      <td>-14.946987</td>\n",
       "      <td>-15.875411</td>\n",
       "      <td>-3.343289</td>\n",
       "      <td>-4.925899</td>\n",
       "    </tr>\n",
       "    <tr>\n",
       "      <th>25%</th>\n",
       "      <td>0.124854</td>\n",
       "      <td>0.150418</td>\n",
       "      <td>1.216394</td>\n",
       "      <td>1.142020</td>\n",
       "    </tr>\n",
       "    <tr>\n",
       "      <th>50%</th>\n",
       "      <td>1.012952</td>\n",
       "      <td>1.010290</td>\n",
       "      <td>1.820004</td>\n",
       "      <td>1.762743</td>\n",
       "    </tr>\n",
       "    <tr>\n",
       "      <th>75%</th>\n",
       "      <td>1.842254</td>\n",
       "      <td>1.842429</td>\n",
       "      <td>2.483442</td>\n",
       "      <td>2.438124</td>\n",
       "    </tr>\n",
       "    <tr>\n",
       "      <th>max</th>\n",
       "      <td>5.137378</td>\n",
       "      <td>5.290437</td>\n",
       "      <td>5.813139</td>\n",
       "      <td>9.745045</td>\n",
       "    </tr>\n",
       "  </tbody>\n",
       "</table>\n",
       "</div>"
      ],
      "text/plain": [
       "                X1           X2           Y1           Y2\n",
       "count  3665.000000  3665.000000  3665.000000  3665.000000\n",
       "mean      0.925723     0.922483     1.873001     1.788654\n",
       "std       1.469873     1.478046     1.068612     1.136582\n",
       "min     -14.946987   -15.875411    -3.343289    -4.925899\n",
       "25%       0.124854     0.150418     1.216394     1.142020\n",
       "50%       1.012952     1.010290     1.820004     1.762743\n",
       "75%       1.842254     1.842429     2.483442     2.438124\n",
       "max       5.137378     5.290437     5.813139     9.745045"
      ]
     },
     "execution_count": 76,
     "metadata": {},
     "output_type": "execute_result"
    }
   ],
   "source": [
    "df_sample.describe()"
   ]
  },
  {
   "cell_type": "code",
   "execution_count": 77,
   "metadata": {},
   "outputs": [
    {
     "data": {
      "text/html": [
       "<div>\n",
       "<style>\n",
       "    .dataframe thead tr:only-child th {\n",
       "        text-align: right;\n",
       "    }\n",
       "\n",
       "    .dataframe thead th {\n",
       "        text-align: left;\n",
       "    }\n",
       "\n",
       "    .dataframe tbody tr th {\n",
       "        vertical-align: top;\n",
       "    }\n",
       "</style>\n",
       "<table border=\"1\" class=\"dataframe\">\n",
       "  <thead>\n",
       "    <tr style=\"text-align: right;\">\n",
       "      <th></th>\n",
       "      <th>X1</th>\n",
       "      <th>X2</th>\n",
       "      <th>Y1</th>\n",
       "      <th>Y2</th>\n",
       "    </tr>\n",
       "  </thead>\n",
       "  <tbody>\n",
       "    <tr>\n",
       "      <th>count</th>\n",
       "      <td>3665.000000</td>\n",
       "      <td>3665.000000</td>\n",
       "      <td>3665.000000</td>\n",
       "      <td>3665.000000</td>\n",
       "    </tr>\n",
       "    <tr>\n",
       "      <th>mean</th>\n",
       "      <td>0.925723</td>\n",
       "      <td>0.922483</td>\n",
       "      <td>1.873001</td>\n",
       "      <td>1.788654</td>\n",
       "    </tr>\n",
       "    <tr>\n",
       "      <th>std</th>\n",
       "      <td>1.469873</td>\n",
       "      <td>1.478046</td>\n",
       "      <td>1.068612</td>\n",
       "      <td>1.136582</td>\n",
       "    </tr>\n",
       "    <tr>\n",
       "      <th>min</th>\n",
       "      <td>-14.946987</td>\n",
       "      <td>-15.875411</td>\n",
       "      <td>-3.343289</td>\n",
       "      <td>-4.925899</td>\n",
       "    </tr>\n",
       "    <tr>\n",
       "      <th>25%</th>\n",
       "      <td>0.124854</td>\n",
       "      <td>0.150418</td>\n",
       "      <td>1.216394</td>\n",
       "      <td>1.142020</td>\n",
       "    </tr>\n",
       "    <tr>\n",
       "      <th>50%</th>\n",
       "      <td>1.012952</td>\n",
       "      <td>1.010290</td>\n",
       "      <td>1.820004</td>\n",
       "      <td>1.762743</td>\n",
       "    </tr>\n",
       "    <tr>\n",
       "      <th>75%</th>\n",
       "      <td>1.842254</td>\n",
       "      <td>1.842429</td>\n",
       "      <td>2.483442</td>\n",
       "      <td>2.438124</td>\n",
       "    </tr>\n",
       "    <tr>\n",
       "      <th>max</th>\n",
       "      <td>5.137378</td>\n",
       "      <td>5.290437</td>\n",
       "      <td>5.813139</td>\n",
       "      <td>9.745045</td>\n",
       "    </tr>\n",
       "  </tbody>\n",
       "</table>\n",
       "</div>"
      ],
      "text/plain": [
       "                X1           X2           Y1           Y2\n",
       "count  3665.000000  3665.000000  3665.000000  3665.000000\n",
       "mean      0.925723     0.922483     1.873001     1.788654\n",
       "std       1.469873     1.478046     1.068612     1.136582\n",
       "min     -14.946987   -15.875411    -3.343289    -4.925899\n",
       "25%       0.124854     0.150418     1.216394     1.142020\n",
       "50%       1.012952     1.010290     1.820004     1.762743\n",
       "75%       1.842254     1.842429     2.483442     2.438124\n",
       "max       5.137378     5.290437     5.813139     9.745045"
      ]
     },
     "execution_count": 77,
     "metadata": {},
     "output_type": "execute_result"
    }
   ],
   "source": [
    "df_sample.describe()"
   ]
  },
  {
   "cell_type": "markdown",
   "metadata": {},
   "source": [
    "Done (🎉)."
   ]
  }
 ],
 "metadata": {
  "anaconda-cloud": {},
  "kernelspec": {
   "display_name": "Python 3",
   "language": "python",
   "name": "python3"
  },
  "language_info": {
   "codemirror_mode": {
    "name": "ipython",
    "version": 3
   },
   "file_extension": ".py",
   "mimetype": "text/x-python",
   "name": "python",
   "nbconvert_exporter": "python",
   "pygments_lexer": "ipython3",
   "version": "3.7.1"
  }
 },
 "nbformat": 4,
 "nbformat_minor": 2
}
