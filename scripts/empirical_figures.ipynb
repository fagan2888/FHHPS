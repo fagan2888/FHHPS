{
 "cells": [
  {
   "cell_type": "code",
   "execution_count": 80,
   "metadata": {},
   "outputs": [],
   "source": [
    "from os import rename\n",
    "from os.path import split, join\n",
    "from glob import glob\n",
    "from glob import glob\n",
    "\n",
    "import matplotlib.pyplot as plt\n",
    "import pandas as pd\n",
    "import seaborn as sns\n",
    "import numpy as np\n",
    "from itertools import product\n",
    "from IPython.display import display, HTML\n",
    "pd.options.display.max_columns = 100\n",
    "pd.options.display.max_rows = 10\n",
    "sns.set_context(\"paper\", font_scale=1.4)"
   ]
  },
  {
   "cell_type": "markdown",
   "metadata": {},
   "source": [
    "# FHHPS Empirical Application"
   ]
  },
  {
   "cell_type": "markdown",
   "metadata": {},
   "source": [
    "This reports the result of applying our method to Allcott's dataset, which contained a bit over 10k observations."
   ]
  },
  {
   "cell_type": "markdown",
   "metadata": {},
   "source": [
    "## Tuning parameter selection"
   ]
  },
  {
   "cell_type": "markdown",
   "metadata": {},
   "source": [
    "In the same notation of the tuning parameters as in the `simulation_figures.ipynb`, we drew over 150k tuning parameters from the grid below.\n",
    "\n",
    "+ $c_{shocks} \\in [.01, 5]$\n",
    "+ $c_{output1\\_step1} \\in [0.01, 5]$\n",
    "+ $c_{output1\\_step2} \\in [0.01, 5]$\n",
    "+ $c_{output2} \\in [0.01, 5]$\n",
    "+ $c_{censor1} \\in [0.01, 2]$\n",
    "+ $c_{censor2} \\in [0.01, 2]$\n",
    "+ kernel $\\in$ {KNN, neighbor}\n",
    "\n",
    "Note that the asymptotic results in the paper do not provide guide explicit guidance on how to choose these parameters.\n",
    "\n",
    "With a lot of data, these choices matter less. But as we will see below, at 10k observation they still matter a great deal."
   ]
  },
  {
   "cell_type": "markdown",
   "metadata": {},
   "source": [
    "## Reading in"
   ]
  },
  {
   "cell_type": "markdown",
   "metadata": {},
   "source": [
    "Reading in the results. Ignore this section"
   ]
  },
  {
   "cell_type": "code",
   "execution_count": 82,
   "metadata": {},
   "outputs": [],
   "source": [
    "dfs = []\n",
    "for k, file in enumerate(glob(join(\"empirical_out\", \"*43cd*\"))):\n",
    "    df_tmp = pd.read_csv(file, header=None)\n",
    "    dfs.append(df_tmp)\n",
    "    \n",
    "df = pd.concat(dfs).dropna()\n",
    "\n",
    "mean_names = [\"EA\", \"EB\", \"EC\"]\n",
    "cov_names = [\"VarA\", \"VarB\", \"VarC\", \"CovAB\", \"CovAC\", \"CovBC\"]\n",
    "param_names = [\"shock_bw1_const\", \"output_bw1_coqnst_step1\", \"output_bw1_const_step2\", \"output_bw2_const\"]\n",
    "pretty_param_names = [\"$c_{shock}$\", \"$c_{y,1}^{(1)}$\", \"$c_{y,1}^{(2)}$\", \"$c_{y,2}$\"]\n",
    "\n",
    "params = ['n', 'kernel1', 'kernel2', \n",
    "      'output_bw1_const_step1', 'output_bw1_const_step2', 'output_bw2_const',\n",
    "      'output_bw1_alpha', 'output_bw2_alpha', \n",
    "      'shock_bw1_const', 'shock_bw2_const', 'shock_bw1_alpha', 'shock_bw2_alpha', \n",
    "      'censor1_const', 'censor2_const']\n",
    "others = ['mean_valid', 'cov_valid',\"time\"]\n",
    "cols = params + others\n",
    "df.columns = cols + mean_names + cov_names\n",
    "df = df.drop_duplicates(params)"
   ]
  },
  {
   "cell_type": "code",
   "execution_count": 83,
   "metadata": {},
   "outputs": [
    {
     "data": {
      "text/plain": [
       "'We tried 14054 different tuning parameter combinations'"
      ]
     },
     "execution_count": 83,
     "metadata": {},
     "output_type": "execute_result"
    }
   ],
   "source": [
    "f\"We tried {len(df)} different tuning parameter combinations\""
   ]
  },
  {
   "cell_type": "code",
   "execution_count": 84,
   "metadata": {},
   "outputs": [
    {
     "data": {
      "text/html": [
       "<div>\n",
       "<style scoped>\n",
       "    .dataframe tbody tr th:only-of-type {\n",
       "        vertical-align: middle;\n",
       "    }\n",
       "\n",
       "    .dataframe tbody tr th {\n",
       "        vertical-align: top;\n",
       "    }\n",
       "\n",
       "    .dataframe thead th {\n",
       "        text-align: right;\n",
       "    }\n",
       "</style>\n",
       "<table border=\"1\" class=\"dataframe\">\n",
       "  <thead>\n",
       "    <tr style=\"text-align: right;\">\n",
       "      <th></th>\n",
       "      <th>n</th>\n",
       "      <th>kernel1</th>\n",
       "      <th>kernel2</th>\n",
       "      <th>output_bw1_const_step1</th>\n",
       "      <th>output_bw1_const_step2</th>\n",
       "      <th>output_bw2_const</th>\n",
       "      <th>output_bw1_alpha</th>\n",
       "      <th>output_bw2_alpha</th>\n",
       "      <th>shock_bw1_const</th>\n",
       "      <th>shock_bw2_const</th>\n",
       "      <th>shock_bw1_alpha</th>\n",
       "      <th>shock_bw2_alpha</th>\n",
       "      <th>censor1_const</th>\n",
       "      <th>censor2_const</th>\n",
       "      <th>mean_valid</th>\n",
       "      <th>cov_valid</th>\n",
       "      <th>time</th>\n",
       "      <th>EA</th>\n",
       "      <th>EB</th>\n",
       "      <th>EC</th>\n",
       "      <th>VarA</th>\n",
       "      <th>VarB</th>\n",
       "      <th>VarC</th>\n",
       "      <th>CovAB</th>\n",
       "      <th>CovAC</th>\n",
       "      <th>CovBC</th>\n",
       "    </tr>\n",
       "  </thead>\n",
       "  <tbody>\n",
       "    <tr>\n",
       "      <th>0</th>\n",
       "      <td>9395</td>\n",
       "      <td>neighbor</td>\n",
       "      <td>neighbor</td>\n",
       "      <td>4.500400</td>\n",
       "      <td>4.346707</td>\n",
       "      <td>1.528788</td>\n",
       "      <td>0.1</td>\n",
       "      <td>0.1</td>\n",
       "      <td>3.757622</td>\n",
       "      <td>2.853055</td>\n",
       "      <td>0.166667</td>\n",
       "      <td>0.166667</td>\n",
       "      <td>2.0</td>\n",
       "      <td>2.0</td>\n",
       "      <td>0.531559</td>\n",
       "      <td>0.058648</td>\n",
       "      <td>178.836059</td>\n",
       "      <td>13.524115</td>\n",
       "      <td>0.140234</td>\n",
       "      <td>0.124516</td>\n",
       "      <td>2026.616073</td>\n",
       "      <td>5.803292</td>\n",
       "      <td>1.904936</td>\n",
       "      <td>-92.852966</td>\n",
       "      <td>-17.865824</td>\n",
       "      <td>-0.703976</td>\n",
       "    </tr>\n",
       "    <tr>\n",
       "      <th>1</th>\n",
       "      <td>9395</td>\n",
       "      <td>gaussian</td>\n",
       "      <td>neighbor</td>\n",
       "      <td>4.834289</td>\n",
       "      <td>3.977185</td>\n",
       "      <td>3.508628</td>\n",
       "      <td>0.1</td>\n",
       "      <td>0.1</td>\n",
       "      <td>4.459393</td>\n",
       "      <td>4.564068</td>\n",
       "      <td>0.166667</td>\n",
       "      <td>0.166667</td>\n",
       "      <td>1.0</td>\n",
       "      <td>2.0</td>\n",
       "      <td>0.694412</td>\n",
       "      <td>0.058648</td>\n",
       "      <td>188.947886</td>\n",
       "      <td>13.213327</td>\n",
       "      <td>0.159177</td>\n",
       "      <td>0.124063</td>\n",
       "      <td>-2888.893322</td>\n",
       "      <td>-8.059475</td>\n",
       "      <td>0.788845</td>\n",
       "      <td>157.364318</td>\n",
       "      <td>-7.076770</td>\n",
       "      <td>-0.365712</td>\n",
       "    </tr>\n",
       "    <tr>\n",
       "      <th>2</th>\n",
       "      <td>9395</td>\n",
       "      <td>gaussian</td>\n",
       "      <td>gaussian</td>\n",
       "      <td>1.286407</td>\n",
       "      <td>0.104195</td>\n",
       "      <td>4.896878</td>\n",
       "      <td>0.1</td>\n",
       "      <td>0.1</td>\n",
       "      <td>1.482180</td>\n",
       "      <td>3.630251</td>\n",
       "      <td>0.166667</td>\n",
       "      <td>0.166667</td>\n",
       "      <td>1.0</td>\n",
       "      <td>1.0</td>\n",
       "      <td>0.694412</td>\n",
       "      <td>0.071847</td>\n",
       "      <td>165.047976</td>\n",
       "      <td>10.599901</td>\n",
       "      <td>0.149263</td>\n",
       "      <td>0.299468</td>\n",
       "      <td>2955.443143</td>\n",
       "      <td>5.143455</td>\n",
       "      <td>10.094469</td>\n",
       "      <td>-50.768644</td>\n",
       "      <td>-125.034240</td>\n",
       "      <td>-2.162901</td>\n",
       "    </tr>\n",
       "    <tr>\n",
       "      <th>3</th>\n",
       "      <td>9395</td>\n",
       "      <td>neighbor</td>\n",
       "      <td>gaussian</td>\n",
       "      <td>1.395385</td>\n",
       "      <td>2.323063</td>\n",
       "      <td>0.748164</td>\n",
       "      <td>0.1</td>\n",
       "      <td>0.1</td>\n",
       "      <td>3.330909</td>\n",
       "      <td>3.552299</td>\n",
       "      <td>0.166667</td>\n",
       "      <td>0.166667</td>\n",
       "      <td>0.5</td>\n",
       "      <td>0.5</td>\n",
       "      <td>0.821927</td>\n",
       "      <td>0.088558</td>\n",
       "      <td>173.477614</td>\n",
       "      <td>10.580090</td>\n",
       "      <td>0.148119</td>\n",
       "      <td>0.303441</td>\n",
       "      <td>1357.859786</td>\n",
       "      <td>2.934821</td>\n",
       "      <td>4.464864</td>\n",
       "      <td>-30.236328</td>\n",
       "      <td>-43.834269</td>\n",
       "      <td>-1.573698</td>\n",
       "    </tr>\n",
       "    <tr>\n",
       "      <th>4</th>\n",
       "      <td>9395</td>\n",
       "      <td>neighbor</td>\n",
       "      <td>gaussian</td>\n",
       "      <td>1.426092</td>\n",
       "      <td>0.707818</td>\n",
       "      <td>4.654991</td>\n",
       "      <td>0.1</td>\n",
       "      <td>0.1</td>\n",
       "      <td>3.865914</td>\n",
       "      <td>1.135708</td>\n",
       "      <td>0.166667</td>\n",
       "      <td>0.166667</td>\n",
       "      <td>1.0</td>\n",
       "      <td>1.0</td>\n",
       "      <td>0.694412</td>\n",
       "      <td>0.071847</td>\n",
       "      <td>175.212515</td>\n",
       "      <td>10.658341</td>\n",
       "      <td>0.149470</td>\n",
       "      <td>0.295128</td>\n",
       "      <td>2219.474602</td>\n",
       "      <td>5.781875</td>\n",
       "      <td>3.014913</td>\n",
       "      <td>-90.536651</td>\n",
       "      <td>-31.356185</td>\n",
       "      <td>-0.931089</td>\n",
       "    </tr>\n",
       "  </tbody>\n",
       "</table>\n",
       "</div>"
      ],
      "text/plain": [
       "      n   kernel1   kernel2  output_bw1_const_step1  output_bw1_const_step2  \\\n",
       "0  9395  neighbor  neighbor                4.500400                4.346707   \n",
       "1  9395  gaussian  neighbor                4.834289                3.977185   \n",
       "2  9395  gaussian  gaussian                1.286407                0.104195   \n",
       "3  9395  neighbor  gaussian                1.395385                2.323063   \n",
       "4  9395  neighbor  gaussian                1.426092                0.707818   \n",
       "\n",
       "   output_bw2_const  output_bw1_alpha  output_bw2_alpha  shock_bw1_const  \\\n",
       "0          1.528788               0.1               0.1         3.757622   \n",
       "1          3.508628               0.1               0.1         4.459393   \n",
       "2          4.896878               0.1               0.1         1.482180   \n",
       "3          0.748164               0.1               0.1         3.330909   \n",
       "4          4.654991               0.1               0.1         3.865914   \n",
       "\n",
       "   shock_bw2_const  shock_bw1_alpha  shock_bw2_alpha  censor1_const  \\\n",
       "0         2.853055         0.166667         0.166667            2.0   \n",
       "1         4.564068         0.166667         0.166667            1.0   \n",
       "2         3.630251         0.166667         0.166667            1.0   \n",
       "3         3.552299         0.166667         0.166667            0.5   \n",
       "4         1.135708         0.166667         0.166667            1.0   \n",
       "\n",
       "   censor2_const  mean_valid  cov_valid        time         EA        EB  \\\n",
       "0            2.0    0.531559   0.058648  178.836059  13.524115  0.140234   \n",
       "1            2.0    0.694412   0.058648  188.947886  13.213327  0.159177   \n",
       "2            1.0    0.694412   0.071847  165.047976  10.599901  0.149263   \n",
       "3            0.5    0.821927   0.088558  173.477614  10.580090  0.148119   \n",
       "4            1.0    0.694412   0.071847  175.212515  10.658341  0.149470   \n",
       "\n",
       "         EC         VarA      VarB       VarC       CovAB       CovAC  \\\n",
       "0  0.124516  2026.616073  5.803292   1.904936  -92.852966  -17.865824   \n",
       "1  0.124063 -2888.893322 -8.059475   0.788845  157.364318   -7.076770   \n",
       "2  0.299468  2955.443143  5.143455  10.094469  -50.768644 -125.034240   \n",
       "3  0.303441  1357.859786  2.934821   4.464864  -30.236328  -43.834269   \n",
       "4  0.295128  2219.474602  5.781875   3.014913  -90.536651  -31.356185   \n",
       "\n",
       "      CovBC  \n",
       "0 -0.703976  \n",
       "1 -0.365712  \n",
       "2 -2.162901  \n",
       "3 -1.573698  \n",
       "4 -0.931089  "
      ]
     },
     "execution_count": 84,
     "metadata": {},
     "output_type": "execute_result"
    }
   ],
   "source": [
    "df.head()"
   ]
  },
  {
   "cell_type": "markdown",
   "metadata": {},
   "source": [
    "## Results"
   ]
  },
  {
   "cell_type": "markdown",
   "metadata": {},
   "source": [
    "The estimates are **extremely** sensitive to tuning parameters. For example, here is the range of interecept estimates."
   ]
  },
  {
   "cell_type": "code",
   "execution_count": 85,
   "metadata": {},
   "outputs": [
    {
     "data": {
      "text/plain": [
       "min     5.670008\n",
       "max    20.305917\n",
       "Name: EA, dtype: float64"
      ]
     },
     "execution_count": 85,
     "metadata": {},
     "output_type": "execute_result"
    }
   ],
   "source": [
    "df[\"EA\"].agg([\"min\", \"max\"])"
   ]
  },
  {
   "cell_type": "markdown",
   "metadata": {},
   "source": [
    "And here's the range of the variance of the first slope, for another example."
   ]
  },
  {
   "cell_type": "code",
   "execution_count": 86,
   "metadata": {},
   "outputs": [
    {
     "data": {
      "text/plain": [
       "min       -29.376151\n",
       "max    807105.707823\n",
       "Name: VarB, dtype: float64"
      ]
     },
     "execution_count": 86,
     "metadata": {},
     "output_type": "execute_result"
    }
   ],
   "source": [
    "df[\"VarB\"].agg([\"min\", \"max\"])"
   ]
  },
  {
   "cell_type": "markdown",
   "metadata": {},
   "source": [
    "## Restricting the grid of tuning parameters"
   ]
  },
  {
   "cell_type": "markdown",
   "metadata": {},
   "source": [
    "Some choices of tuning parameters will give entirely unreasonable estimates.\n",
    "\n",
    "So let's say that we want to constraint out tuning parameter selection by discard any configuration that produces mathematically impossible numbers, such as:\n",
    "\n",
    "+ Negative variance estimates\n",
    "+ Correlations larger than 1\n",
    "\n",
    "Also, let's discard configuration that produce estimates that don't make economic sense. We'll restrict to parameters that give us:\n",
    "\n",
    "+ $E[A_{1}] \\geq 0$\n",
    "+ $E[B_{1}] \\geq -0.5$\n",
    "+ $E[C_{1}] \\geq -0.5$\n",
    "+ $Var[A_{1}] < 50$\n",
    "+ $Var[B_{1}] < 20$\n",
    "+ $Var[C_{1}] < 20$\n",
    "+ $|Corr[A_{1}, B_{1}]| < 1$ (similar for other correlations)\n"
   ]
  },
  {
   "cell_type": "markdown",
   "metadata": {},
   "source": [
    "If we impose all of these restrictions, what are we left with?"
   ]
  },
  {
   "cell_type": "code",
   "execution_count": 87,
   "metadata": {},
   "outputs": [
    {
     "name": "stderr",
     "output_type": "stream",
     "text": [
      "/Users/vitorh/miniconda3/lib/python3.7/site-packages/ipykernel_launcher.py:15: RuntimeWarning: invalid value encountered in sqrt\n",
      "  from ipykernel import kernelapp as app\n"
     ]
    }
   ],
   "source": [
    "df_good = df[\n",
    "    \n",
    "    # Variances are positive\n",
    "    (df[\"VarA\"] > 0) & (df[\"VarB\"] > 0)  & (df[\"VarC\"] > 0) \n",
    "    \n",
    "    # Variances have reasonable magnitude\n",
    "    & (df[\"VarA\"] < 50) & (np.abs(df[\"CovAB\"]) < 20)  & (np.abs(df[\"CovAC\"]) < 20) \n",
    "\n",
    "    # Correlations are at most 1 in absolute value\n",
    "    & (np.abs(df[\"CovAC\"]) < np.sqrt(df[\"VarA\"]*df[\"VarC\"]))\n",
    "    & (np.abs(df[\"CovAB\"]) < np.sqrt(df[\"VarA\"]*df[\"VarB\"]))\n",
    "    & (np.abs(df[\"CovBC\"]) < np.sqrt(df[\"VarB\"]*df[\"VarC\"]))\n",
    "    \n",
    "    # Sensible average values\n",
    "    & (df[\"EA\"] > 0) & (df[\"EB\"] > -.5) & (df[\"EC\"] > -.5)\n",
    "    \n",
    "].drop_duplicates()"
   ]
  },
  {
   "cell_type": "markdown",
   "metadata": {},
   "source": [
    "Restricted dataset (19 configurations, out of the 150k+ we started with.) "
   ]
  },
  {
   "cell_type": "code",
   "execution_count": 88,
   "metadata": {},
   "outputs": [
    {
     "data": {
      "text/html": [
       "<div>\n",
       "<style scoped>\n",
       "    .dataframe tbody tr th:only-of-type {\n",
       "        vertical-align: middle;\n",
       "    }\n",
       "\n",
       "    .dataframe tbody tr th {\n",
       "        vertical-align: top;\n",
       "    }\n",
       "\n",
       "    .dataframe thead th {\n",
       "        text-align: right;\n",
       "    }\n",
       "</style>\n",
       "<table border=\"1\" class=\"dataframe\">\n",
       "  <thead>\n",
       "    <tr style=\"text-align: right;\">\n",
       "      <th></th>\n",
       "      <th>n</th>\n",
       "      <th>kernel1</th>\n",
       "      <th>kernel2</th>\n",
       "      <th>output_bw1_const_step1</th>\n",
       "      <th>output_bw1_const_step2</th>\n",
       "      <th>output_bw2_const</th>\n",
       "      <th>output_bw1_alpha</th>\n",
       "      <th>output_bw2_alpha</th>\n",
       "      <th>shock_bw1_const</th>\n",
       "      <th>shock_bw2_const</th>\n",
       "      <th>shock_bw1_alpha</th>\n",
       "      <th>shock_bw2_alpha</th>\n",
       "      <th>censor1_const</th>\n",
       "      <th>censor2_const</th>\n",
       "      <th>mean_valid</th>\n",
       "      <th>cov_valid</th>\n",
       "      <th>time</th>\n",
       "      <th>EA</th>\n",
       "      <th>EB</th>\n",
       "      <th>EC</th>\n",
       "      <th>VarA</th>\n",
       "      <th>VarB</th>\n",
       "      <th>VarC</th>\n",
       "      <th>CovAB</th>\n",
       "      <th>CovAC</th>\n",
       "      <th>CovBC</th>\n",
       "    </tr>\n",
       "  </thead>\n",
       "  <tbody>\n",
       "    <tr>\n",
       "      <th>6</th>\n",
       "      <td>9395</td>\n",
       "      <td>neighbor</td>\n",
       "      <td>gaussian</td>\n",
       "      <td>4.371484</td>\n",
       "      <td>2.866751</td>\n",
       "      <td>0.137582</td>\n",
       "      <td>0.1</td>\n",
       "      <td>0.1</td>\n",
       "      <td>4.163132</td>\n",
       "      <td>1.438553</td>\n",
       "      <td>0.166667</td>\n",
       "      <td>0.166667</td>\n",
       "      <td>2.0</td>\n",
       "      <td>0.5</td>\n",
       "      <td>0.531559</td>\n",
       "      <td>0.088558</td>\n",
       "      <td>162.361472</td>\n",
       "      <td>10.786974</td>\n",
       "      <td>0.132309</td>\n",
       "      <td>0.303826</td>\n",
       "      <td>36.97974</td>\n",
       "      <td>1.680448</td>\n",
       "      <td>2.104846</td>\n",
       "      <td>-0.900945</td>\n",
       "      <td>-7.846881</td>\n",
       "      <td>-1.356938</td>\n",
       "    </tr>\n",
       "  </tbody>\n",
       "</table>\n",
       "</div>"
      ],
      "text/plain": [
       "      n   kernel1   kernel2  output_bw1_const_step1  output_bw1_const_step2  \\\n",
       "6  9395  neighbor  gaussian                4.371484                2.866751   \n",
       "\n",
       "   output_bw2_const  output_bw1_alpha  output_bw2_alpha  shock_bw1_const  \\\n",
       "6          0.137582               0.1               0.1         4.163132   \n",
       "\n",
       "   shock_bw2_const  shock_bw1_alpha  shock_bw2_alpha  censor1_const  \\\n",
       "6         1.438553         0.166667         0.166667            2.0   \n",
       "\n",
       "   censor2_const  mean_valid  cov_valid        time         EA        EB  \\\n",
       "6            0.5    0.531559   0.088558  162.361472  10.786974  0.132309   \n",
       "\n",
       "         EC      VarA      VarB      VarC     CovAB     CovAC     CovBC  \n",
       "6  0.303826  36.97974  1.680448  2.104846 -0.900945 -7.846881 -1.356938  "
      ]
     },
     "execution_count": 88,
     "metadata": {},
     "output_type": "execute_result"
    }
   ],
   "source": [
    "df_good"
   ]
  },
  {
   "cell_type": "markdown",
   "metadata": {},
   "source": [
    "**Conclusion: Even after restricting to 'sensible' tuning parameters, we still observe a lot of variation in our point estimates**"
   ]
  },
  {
   "cell_type": "code",
   "execution_count": 89,
   "metadata": {},
   "outputs": [
    {
     "data": {
      "text/html": [
       "<div>\n",
       "<style scoped>\n",
       "    .dataframe tbody tr th:only-of-type {\n",
       "        vertical-align: middle;\n",
       "    }\n",
       "\n",
       "    .dataframe tbody tr th {\n",
       "        vertical-align: top;\n",
       "    }\n",
       "\n",
       "    .dataframe thead th {\n",
       "        text-align: right;\n",
       "    }\n",
       "</style>\n",
       "<table border=\"1\" class=\"dataframe\">\n",
       "  <thead>\n",
       "    <tr style=\"text-align: right;\">\n",
       "      <th></th>\n",
       "      <th>EA</th>\n",
       "      <th>EB</th>\n",
       "      <th>EC</th>\n",
       "    </tr>\n",
       "  </thead>\n",
       "  <tbody>\n",
       "    <tr>\n",
       "      <th>count</th>\n",
       "      <td>1.000000</td>\n",
       "      <td>1.000000</td>\n",
       "      <td>1.000000</td>\n",
       "    </tr>\n",
       "    <tr>\n",
       "      <th>mean</th>\n",
       "      <td>10.786974</td>\n",
       "      <td>0.132309</td>\n",
       "      <td>0.303826</td>\n",
       "    </tr>\n",
       "    <tr>\n",
       "      <th>std</th>\n",
       "      <td>NaN</td>\n",
       "      <td>NaN</td>\n",
       "      <td>NaN</td>\n",
       "    </tr>\n",
       "    <tr>\n",
       "      <th>min</th>\n",
       "      <td>10.786974</td>\n",
       "      <td>0.132309</td>\n",
       "      <td>0.303826</td>\n",
       "    </tr>\n",
       "    <tr>\n",
       "      <th>25%</th>\n",
       "      <td>10.786974</td>\n",
       "      <td>0.132309</td>\n",
       "      <td>0.303826</td>\n",
       "    </tr>\n",
       "    <tr>\n",
       "      <th>50%</th>\n",
       "      <td>10.786974</td>\n",
       "      <td>0.132309</td>\n",
       "      <td>0.303826</td>\n",
       "    </tr>\n",
       "    <tr>\n",
       "      <th>75%</th>\n",
       "      <td>10.786974</td>\n",
       "      <td>0.132309</td>\n",
       "      <td>0.303826</td>\n",
       "    </tr>\n",
       "    <tr>\n",
       "      <th>max</th>\n",
       "      <td>10.786974</td>\n",
       "      <td>0.132309</td>\n",
       "      <td>0.303826</td>\n",
       "    </tr>\n",
       "  </tbody>\n",
       "</table>\n",
       "</div>"
      ],
      "text/plain": [
       "              EA        EB        EC\n",
       "count   1.000000  1.000000  1.000000\n",
       "mean   10.786974  0.132309  0.303826\n",
       "std          NaN       NaN       NaN\n",
       "min    10.786974  0.132309  0.303826\n",
       "25%    10.786974  0.132309  0.303826\n",
       "50%    10.786974  0.132309  0.303826\n",
       "75%    10.786974  0.132309  0.303826\n",
       "max    10.786974  0.132309  0.303826"
      ]
     },
     "execution_count": 89,
     "metadata": {},
     "output_type": "execute_result"
    }
   ],
   "source": [
    "df_good[[\"EA\", \"EB\", \"EC\"]].describe()"
   ]
  },
  {
   "cell_type": "code",
   "execution_count": 90,
   "metadata": {},
   "outputs": [
    {
     "data": {
      "text/html": [
       "<div>\n",
       "<style scoped>\n",
       "    .dataframe tbody tr th:only-of-type {\n",
       "        vertical-align: middle;\n",
       "    }\n",
       "\n",
       "    .dataframe tbody tr th {\n",
       "        vertical-align: top;\n",
       "    }\n",
       "\n",
       "    .dataframe thead th {\n",
       "        text-align: right;\n",
       "    }\n",
       "</style>\n",
       "<table border=\"1\" class=\"dataframe\">\n",
       "  <thead>\n",
       "    <tr style=\"text-align: right;\">\n",
       "      <th></th>\n",
       "      <th>VarA</th>\n",
       "      <th>VarB</th>\n",
       "      <th>VarC</th>\n",
       "      <th>CovAB</th>\n",
       "      <th>CovAC</th>\n",
       "      <th>CovBC</th>\n",
       "    </tr>\n",
       "  </thead>\n",
       "  <tbody>\n",
       "    <tr>\n",
       "      <th>count</th>\n",
       "      <td>1.00000</td>\n",
       "      <td>1.000000</td>\n",
       "      <td>1.000000</td>\n",
       "      <td>1.000000</td>\n",
       "      <td>1.000000</td>\n",
       "      <td>1.000000</td>\n",
       "    </tr>\n",
       "    <tr>\n",
       "      <th>mean</th>\n",
       "      <td>36.97974</td>\n",
       "      <td>1.680448</td>\n",
       "      <td>2.104846</td>\n",
       "      <td>-0.900945</td>\n",
       "      <td>-7.846881</td>\n",
       "      <td>-1.356938</td>\n",
       "    </tr>\n",
       "    <tr>\n",
       "      <th>std</th>\n",
       "      <td>NaN</td>\n",
       "      <td>NaN</td>\n",
       "      <td>NaN</td>\n",
       "      <td>NaN</td>\n",
       "      <td>NaN</td>\n",
       "      <td>NaN</td>\n",
       "    </tr>\n",
       "    <tr>\n",
       "      <th>min</th>\n",
       "      <td>36.97974</td>\n",
       "      <td>1.680448</td>\n",
       "      <td>2.104846</td>\n",
       "      <td>-0.900945</td>\n",
       "      <td>-7.846881</td>\n",
       "      <td>-1.356938</td>\n",
       "    </tr>\n",
       "    <tr>\n",
       "      <th>25%</th>\n",
       "      <td>36.97974</td>\n",
       "      <td>1.680448</td>\n",
       "      <td>2.104846</td>\n",
       "      <td>-0.900945</td>\n",
       "      <td>-7.846881</td>\n",
       "      <td>-1.356938</td>\n",
       "    </tr>\n",
       "    <tr>\n",
       "      <th>50%</th>\n",
       "      <td>36.97974</td>\n",
       "      <td>1.680448</td>\n",
       "      <td>2.104846</td>\n",
       "      <td>-0.900945</td>\n",
       "      <td>-7.846881</td>\n",
       "      <td>-1.356938</td>\n",
       "    </tr>\n",
       "    <tr>\n",
       "      <th>75%</th>\n",
       "      <td>36.97974</td>\n",
       "      <td>1.680448</td>\n",
       "      <td>2.104846</td>\n",
       "      <td>-0.900945</td>\n",
       "      <td>-7.846881</td>\n",
       "      <td>-1.356938</td>\n",
       "    </tr>\n",
       "    <tr>\n",
       "      <th>max</th>\n",
       "      <td>36.97974</td>\n",
       "      <td>1.680448</td>\n",
       "      <td>2.104846</td>\n",
       "      <td>-0.900945</td>\n",
       "      <td>-7.846881</td>\n",
       "      <td>-1.356938</td>\n",
       "    </tr>\n",
       "  </tbody>\n",
       "</table>\n",
       "</div>"
      ],
      "text/plain": [
       "           VarA      VarB      VarC     CovAB     CovAC     CovBC\n",
       "count   1.00000  1.000000  1.000000  1.000000  1.000000  1.000000\n",
       "mean   36.97974  1.680448  2.104846 -0.900945 -7.846881 -1.356938\n",
       "std         NaN       NaN       NaN       NaN       NaN       NaN\n",
       "min    36.97974  1.680448  2.104846 -0.900945 -7.846881 -1.356938\n",
       "25%    36.97974  1.680448  2.104846 -0.900945 -7.846881 -1.356938\n",
       "50%    36.97974  1.680448  2.104846 -0.900945 -7.846881 -1.356938\n",
       "75%    36.97974  1.680448  2.104846 -0.900945 -7.846881 -1.356938\n",
       "max    36.97974  1.680448  2.104846 -0.900945 -7.846881 -1.356938"
      ]
     },
     "execution_count": 90,
     "metadata": {},
     "output_type": "execute_result"
    }
   ],
   "source": [
    "df_good[[\"VarA\", \"VarB\", \"VarC\", \"CovAB\", \"CovAC\", \"CovBC\"]].describe()"
   ]
  },
  {
   "cell_type": "markdown",
   "metadata": {},
   "source": [
    "As we can see above, we can get estimates of (e.g.) $Var[A_{1}]$ as low as 24 and as high as 49, depending on the parameters."
   ]
  },
  {
   "cell_type": "markdown",
   "metadata": {},
   "source": [
    "## Can we get 'better' estimates?"
   ]
  },
  {
   "cell_type": "markdown",
   "metadata": {},
   "source": [
    "If we don't \"like\" these estimates, then by fiddiling with the tuning parameters we can get \"better\" estimates. \n",
    "\n",
    "For example, now that we know that we have a better idea about which parameters yield more sensible estimates, we can keep searching on a finer grid in that region until we get estimates that make economic sense to us.\n",
    "\n",
    "But would we want to do that? (No)"
   ]
  }
 ],
 "metadata": {
  "kernelspec": {
   "display_name": "Python 3",
   "language": "python",
   "name": "python3"
  },
  "language_info": {
   "codemirror_mode": {
    "name": "ipython",
    "version": 3
   },
   "file_extension": ".py",
   "mimetype": "text/x-python",
   "name": "python",
   "nbconvert_exporter": "python",
   "pygments_lexer": "ipython3",
   "version": "3.7.1"
  }
 },
 "nbformat": 4,
 "nbformat_minor": 2
}
